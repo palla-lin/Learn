{
 "cells": [
  {
   "cell_type": "code",
   "execution_count": 21,
   "metadata": {},
   "outputs": [
    {
     "name": "stdout",
     "output_type": "stream",
     "text": [
      "[[1, 1, 1], [1, 2, 1], [1, 3, 1], [2, 1, 1], [2, 2, 1], [2, 3, 1], [2, 4, 1], [3, 2, 1], [3, 3, 1], [4, 1, -1], [4, 3, -1], [6, 5, -1], [6, 6, -1], [6, 8, -1], [7, 8, -1], [8, 6, -1], [8, 9, -1], [9, 6, -1], [9, 7, -1], [9, 9, -1]]\n"
     ]
    }
   ],
   "source": [
    "\n",
    "import pandas as pd\n",
    "import matplotlib.pyplot as plt\n",
    "import numpy as np\n",
    "# plt.scatter(X,Y,marker='o')\n",
    "# plt.show()\n",
    "data=[[1,1],[1,2],[1,3],[2,1],[2,2],[2,3],[2,4],[3,2],[3,3],[4,1],[4,3],\n",
    "      [6,5],[6,6],[6,8],[7,8],[8,6],[8,9],[9,6],[9,7],[9,9]]\n",
    "for i in range(len(data)):\n",
    "    if i<=8:\n",
    "        data[i].append(1)\n",
    "    else:\n",
    "        data[i].append(-1)\n",
    "print(data)\n",
    "\n"
   ]
  },
  {
   "cell_type": "code",
   "execution_count": null,
   "metadata": {},
   "outputs": [],
   "source": [
    "data=np.array(data)"
   ]
  }
 ],
 "metadata": {
  "kernelspec": {
   "display_name": "Python 3",
   "language": "python",
   "name": "python3"
  },
  "language_info": {
   "codemirror_mode": {
    "name": "ipython",
    "version": 3
   },
   "file_extension": ".py",
   "mimetype": "text/x-python",
   "name": "python",
   "nbconvert_exporter": "python",
   "pygments_lexer": "ipython3",
   "version": "3.7.6"
  }
 },
 "nbformat": 4,
 "nbformat_minor": 4
}
