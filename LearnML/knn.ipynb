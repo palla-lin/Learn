{
 "cells": [
  {
   "cell_type": "code",
   "execution_count": 1,
   "metadata": {},
   "outputs": [
    {
     "name": "stdout",
     "output_type": "stream",
     "text": [
      "112 112 38 38\n"
     ]
    }
   ],
   "source": [
    "from sklearn.datasets import load_iris\n",
    "from sklearn.model_selection import train_test_split\n",
    "from sklearn.neighbors import KNeighborsClassifier\n",
    "import numpy as np\n",
    "iris_dataset = load_iris()\n",
    "# 数据划分\n",
    "x_train, x_test, y_train, y_test = train_test_split(iris_dataset['data'], iris_dataset['target'], random_state=0)\n",
    "print(len(x_train),len(y_train),len(x_test),len(y_test))\n",
    "# print(x_test,y_test)\n",
    "# print(x_test[0],y_test[0])\n"
   ]
  },
  {
   "cell_type": "code",
   "execution_count": 2,
   "metadata": {},
   "outputs": [
    {
     "name": "stdout",
     "output_type": "stream",
     "text": [
      "[2, 1, 0, 2, 0, 2, 0, 1, 1, 1] [2 1 0 2 0 2 0 1 1 1]\n"
     ]
    }
   ],
   "source": [
    "def dis(x_test,x_train):\n",
    "    distances = np.sqrt(sum((x_test - x_train) ** 2))\n",
    "    return distances\n",
    "# a=np.array([1,2,3,4])\n",
    "# b=np.array([2,4,6,8])\n",
    "# dis(a,b)\n",
    "# print(sum(a))\n",
    "def knn(x_test,x_train,y_train,k):\n",
    "    \n",
    "    res=[]\n",
    "   \n",
    "    for test in x_test:\n",
    "        distance=[]\n",
    "        dist={}\n",
    "        for train in x_train:\n",
    "            distance.append(dis(test,train))\n",
    "       \n",
    "        distance_index=np.argsort(distance)\n",
    "       \n",
    "        for i in range(k):\n",
    " \n",
    "            target=y_train[distance_index[i]]\n",
    "            if target not in dist:\n",
    "                dist[target]=1\n",
    "            else:\n",
    "                dist[target]+=1\n",
    "        res.append(max(dist,key=dist.get))\n",
    "        \n",
    "    return res        \n",
    "a=knn(x_test,x_train,y_train,3)   \n",
    "print(a[:10],y_test[:10])"
   ]
  },
  {
   "cell_type": "code",
   "execution_count": null,
   "metadata": {},
   "outputs": [],
   "source": []
  }
 ],
 "metadata": {
  "kernelspec": {
   "display_name": "Python 3",
   "language": "python",
   "name": "python3"
  },
  "language_info": {
   "codemirror_mode": {
    "name": "ipython",
    "version": 3
   },
   "file_extension": ".py",
   "mimetype": "text/x-python",
   "name": "python",
   "nbconvert_exporter": "python",
   "pygments_lexer": "ipython3",
   "version": "3.7.6"
  }
 },
 "nbformat": 4,
 "nbformat_minor": 4
}
