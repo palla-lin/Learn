{
 "cells": [
  {
   "cell_type": "code",
   "execution_count": 1,
   "metadata": {},
   "outputs": [
    {
     "data": {
      "text/plain": [
       "0.48072261929232585"
      ]
     },
     "execution_count": 1,
     "metadata": {},
     "output_type": "execute_result"
    }
   ],
   "source": [
    "#Decision Tree\n",
    "import math\n",
    "import pandas as pd\n",
    "import numpy as np\n",
    "path='data.csv'\n",
    "data=pd.read_csv(path,index_col=0)\n",
    "data\n",
    "def log(num):\n",
    "    return math.log(num)\n",
    "temp=(data['play'].value_counts()/data['play'].count()).values\n",
    "H1=0\n",
    "for i in temp:\n",
    "    H1+=(-i*log(i))\n",
    "\n",
    "def entropy(dat):\n",
    "    label=(data[dat].value_counts()).index\n",
    "    classlabel=(data['play'].value_counts()).index\n",
    "    x1=[]\n",
    "    x2=[]\n",
    "    for item in label:     \n",
    "        x11=data[(data[dat]==item)&(data['play']=='yes')].play.count()\n",
    "        x1.append(x11)\n",
    "        x12=data[(data[dat]==item)&(data['play']=='no')].play.count()\n",
    "        x2.append(x12)\n",
    "   \n",
    "    dd=pd.DataFrame(np.array([x1,x2]).T,index=label,columns=classlabel)\n",
    "    array=dd.values.astype(float)\n",
    "\n",
    "    ww=(1/sum(sum(array)))*array.sum(axis=1)\n",
    "    weight=(np.tile(array.sum(axis=1),(2,1)).astype(float)).T\n",
    "    for row in weight:\n",
    "        for i in range(len(row)):\n",
    "            row[i]=1/row[i]\n",
    "    newarray=weight*array\n",
    "    for row in newarray:\n",
    "        for i in range(len(row)):\n",
    "            if row[i]!=0:\n",
    "                row[i]=-log(row[i])*row[i]\n",
    "    entro=sum(ww*newarray.sum(axis=1))\n",
    "    return entro   \n",
    "entropy('outlook')"
   ]
  },
  {
   "cell_type": "code",
   "execution_count": null,
   "metadata": {},
   "outputs": [],
   "source": []
  }
 ],
 "metadata": {
  "kernelspec": {
   "display_name": "Python 3",
   "language": "python",
   "name": "python3"
  },
  "language_info": {
   "codemirror_mode": {
    "name": "ipython",
    "version": 3
   },
   "file_extension": ".py",
   "mimetype": "text/x-python",
   "name": "python",
   "nbconvert_exporter": "python",
   "pygments_lexer": "ipython3",
   "version": "3.7.6"
  }
 },
 "nbformat": 4,
 "nbformat_minor": 4
}
