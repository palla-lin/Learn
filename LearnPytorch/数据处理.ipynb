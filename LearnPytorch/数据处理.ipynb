{
 "cells": [
  {
   "cell_type": "markdown",
   "id": "107228fc",
   "metadata": {},
   "source": [
    "### dataloader and dataset\n",
    "dataloader can only do shuffle and minibatch for you\n",
    "but one has to create a clean dataset by hand.\n",
    "It cannot do padding, lowering case, adding special tokens..."
   ]
  },
  {
   "cell_type": "code",
   "execution_count": 19,
   "id": "33451ad6",
   "metadata": {},
   "outputs": [
    {
     "name": "stdout",
     "output_type": "stream",
     "text": [
      "[tensor([ 1, 11]), tensor([ 2, 12])]\n",
      "[tensor([ 3, 13]), tensor([ 4, 14]), tensor([ 5, 15])]\n"
     ]
    }
   ],
   "source": [
    "import torch\n",
    "from torch.utils.data import DataLoader,Dataset\n",
    "\n",
    "def myfun(data):\n",
    "    print(data)\n",
    "    return data,'jj'\n",
    "\n",
    "# collate_fn\n",
    "\n",
    "class mydataset(Dataset):\n",
    "    def __getitem__(self, index):\n",
    "        \n",
    "        data=[([1,2],[3,4,5]),([11,12],[13,14,15])]\n",
    "#         return torch.tensor(data[index][0]),torch.tensor(data[index][1])\n",
    "        return data[index]\n",
    "    def __len__(self):\n",
    "        return 2\n",
    "da=mydataset()\n",
    "\n",
    "loader = DataLoader(\n",
    "    dataset=da,\n",
    "    batch_size=2,\n",
    "#     collate_fn=myfun\n",
    "    # shuffle=True\n",
    ")\n",
    "\n",
    "for s, t in loader:\n",
    "    print(s,)\n",
    "    print(t)\n",
    "    break\n",
    "\n",
    "# print(da['3'])"
   ]
  },
  {
   "cell_type": "markdown",
   "id": "dc907c4a",
   "metadata": {
    "pycharm": {
     "name": "#%% md\n"
    }
   },
   "source": []
  },
  {
   "cell_type": "code",
   "execution_count": 25,
   "id": "32a39a04",
   "metadata": {},
   "outputs": [
    {
     "name": "stdout",
     "output_type": "stream",
     "text": [
      "tensor([[[0., 0.],\n",
      "         [0., 0.],\n",
      "         [0., 0.]],\n",
      "\n",
      "        [[0., 0.],\n",
      "         [0., 0.],\n",
      "         [0., 0.]],\n",
      "\n",
      "        [[0., 0.],\n",
      "         [0., 0.],\n",
      "         [0., 0.]]])\n",
      "tensor([[[0., 0., 0., 0.],\n",
      "         [0., 0., 0., 0.],\n",
      "         [0., 0., 0., 0.]],\n",
      "\n",
      "        [[0., 0., 0., 0.],\n",
      "         [0., 0., 0., 0.],\n",
      "         [0., 0., 0., 0.]],\n",
      "\n",
      "        [[0., 0., 0., 0.],\n",
      "         [0., 0., 0., 0.],\n",
      "         [0., 0., 0., 0.]]])\n"
     ]
    }
   ],
   "source": [
    "import torch.nn.functional as F\n",
    "t4d = torch.empty(3, 3, 2)\n",
    "print(t4d)\n",
    "p1d = (1, 1) # pad last dim by 1 on each side\n",
    "out = F.pad(t4d, p1d, \"constant\", 0)  # effectively zero padding\n",
    "print(out)\n"
   ]
  },
  {
   "cell_type": "code",
   "execution_count": 30,
   "id": "ecf73548",
   "metadata": {},
   "outputs": [
    {
     "name": "stdout",
     "output_type": "stream",
     "text": [
      "([1, 2], [5, 6]) ([3, 4], [7, 8])\n"
     ]
    }
   ],
   "source": [
    "a=[([1,2],[3,4]),([5,6],[7,8])]\n",
    "b,c=zip(*a)\n",
    "print(b,c)"
   ]
  },
  {
   "cell_type": "code",
   "execution_count": null,
   "id": "35935933",
   "metadata": {},
   "outputs": [],
   "source": []
  }
 ],
 "metadata": {
  "kernelspec": {
   "display_name": "Python 3 (ipykernel)",
   "language": "python",
   "name": "python3"
  },
  "language_info": {
   "codemirror_mode": {
    "name": "ipython",
    "version": 3
   },
   "file_extension": ".py",
   "mimetype": "text/x-python",
   "name": "python",
   "nbconvert_exporter": "python",
   "pygments_lexer": "ipython3",
   "version": "3.9.5"
  }
 },
 "nbformat": 4,
 "nbformat_minor": 5
}
