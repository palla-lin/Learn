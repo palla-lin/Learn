{
 "cells": [
  {
   "cell_type": "markdown",
   "metadata": {},
   "source": [
    "1、张量\n",
    "2、自动微分\n",
    "3、nn包\n",
    "##### 步骤\n",
    "不使用自动微分的情况下\n",
    "1.输入数据  --》(使用模型包装)\n",
    "2.设置权重并初始化\n",
    "3.前向传递得到输出\n",
    "4.计算loss --》定义loss函数\n",
    "5.反向传播计算梯度--》自动微分\n",
    "6.更新参数--》定义优化器\n",
    "\n",
    "使用自动微分：\n",
    "1.输入数据\n",
    "2.设置权重并初始化，标记requires_grad=True\n",
    "3.前向传递得到输出\n",
    "4.计算loss\n",
    "5.loss.backfward()\n",
    "6.更新参数\n",
    "\n",
    "使用优化器情况下\n",
    "1.输入数据\n",
    "2.定义model：\n",
    "3.定义优化器\n",
    "4.计算loss函数\n",
    "5.训练：输入数据，使用loss函数，反向传播，使用优化器更新参数\n"
   ]
  },
  {
   "cell_type": "code",
   "execution_count": 1,
   "metadata": {},
   "outputs": [],
   "source": [
    "import torch\n",
    "import torch.nn as nn\n",
    "import torch.nn.functional as f\n",
    "import numpy as np\n",
    "\n",
    "N,D_in,H,D_out=64,1000,100,10"
   ]
  },
  {
   "cell_type": "code",
   "execution_count": 2,
   "metadata": {},
   "outputs": [
    {
     "name": "stdout",
     "output_type": "stream",
     "text": [
      "0 27878547.280449398\n"
     ]
    }
   ],
   "source": [
    "#不使用GPU,\n",
    "\n",
    "x=np.random.randn(N,D_in)\n",
    "y=np.random.randn(N,D_out)\n",
    "\n",
    "w1=np.random.randn(D_in,H)\n",
    "w2=np.random.randn(H,D_out)\n",
    "\n",
    "learning_rate=1e-6\n",
    "for t in range(500):\n",
    "    # 前向传递\n",
    "    h=x.dot(w1)\n",
    "    h_relu=np.maximum(h,0)\n",
    "    y_pred=h_relu.dot(w2)\n",
    "    #计算loss\n",
    "    loss=np.square(y_pred-y).sum()\n",
    "    print(t,loss)\n",
    "    #计算梯度\n",
    "    grad_y_pred=2.0*(y_pred-y)\n",
    "\n",
    "    grad_w2=h_relu.T.dot(grad_y_pred)\n",
    "    grad_h_relu=grad_y_pred.dot(w2.T)\n",
    "    grad_h=grad_h_relu.copy()\n",
    "    grad_h[h<0]=0\n",
    "    grad_w1=x.T.dot(grad_h)\n",
    "    #更新参数\n",
    "    w1-=learning_rate*grad_w1\n",
    "    w2-=learning_rate*grad_w2\n",
    "    break"
   ]
  },
  {
   "cell_type": "code",
   "execution_count": 11,
   "metadata": {},
   "outputs": [
    {
     "name": "stdout",
     "output_type": "stream",
     "text": [
      "0 29751810.0\n"
     ]
    }
   ],
   "source": [
    "#自动微分\n",
    "device=torch.device('cuda:0')\n",
    "x=torch.randn(N,D_in,device=device,dtype=torch.float)\n",
    "y=torch.randn(N,D_out,device=device,dtype=torch.float)\n",
    "#添加 requires_grad=True\n",
    "w1=torch.randn(D_in,H,device=device,dtype=torch.float,requires_grad=True)\n",
    "w2=torch.randn(H,D_out,device=device,dtype=torch.float,requires_grad=True)\n",
    "learning_rate=1e-6\n",
    "for t in range(500):\n",
    "    # 前向传递\n",
    "    h=x.mm(w1)\n",
    "    h_relu=h.clamp(min=0)\n",
    "    y_pred=h_relu.mm(w2)\n",
    "\n",
    "    #计算loss\n",
    "    loss=(y_pred-y).pow_(2).sum()\n",
    "    print(t,loss.item())\n",
    "    #自动计算梯度\n",
    "    loss.backward()\n",
    "    \n",
    "    with torch.no_grad():\n",
    "        #参数更新\n",
    "        w1-=learning_rate*w1.grad\n",
    "        w2-=learning_rate*w2.grad\n",
    "        #梯度清零\n",
    "        w1.grad.zero_()\n",
    "        w2.grad.zero_()\n",
    "    break"
   ]
  },
  {
   "cell_type": "code",
   "execution_count": 13,
   "metadata": {},
   "outputs": [
    {
     "name": "stdout",
     "output_type": "stream",
     "text": [
      "0 636.65478515625\n"
     ]
    }
   ],
   "source": [
    "#最抽象版本\n",
    "device=torch.device('cuda:0' if torch.cuda.is_available() else 'cpu')\n",
    "x=torch.randn(N,D_in,device=device,dtype=torch.float)\n",
    "y=torch.randn(N,D_out,device=device,dtype=torch.float)\n",
    "learning_rate=1e-6\n",
    "#定义模型\n",
    "model=torch.nn.Sequential(\n",
    "    torch.nn.Linear(D_in,H),\n",
    "    torch.nn.ReLU(),\n",
    "    torch.nn.Linear(H,D_out),)\n",
    "model.to(device)\n",
    "#定义loss函数\n",
    "loss_fn=torch.nn.MSELoss(reduction='sum')\n",
    "#定义优化器\n",
    "optimizer=torch.optim.Adam(model.parameters(),lr=learning_rate)\n",
    "\n",
    "for t in range(500):\n",
    "    y_pred=model(x)\n",
    "    loss=loss_fn(y,y_pred)\n",
    "    optimizer.zero_grad()\n",
    "    loss.backward()\n",
    "    optimizer.step()\n",
    "    break"
   ]
  },
  {
   "cell_type": "code",
   "execution_count": null,
   "metadata": {},
   "outputs": [],
   "source": []
  }
 ],
 "metadata": {
  "kernelspec": {
   "display_name": "Python 3",
   "language": "python",
   "name": "python3"
  },
  "language_info": {
   "codemirror_mode": {
    "name": "ipython",
    "version": 3
   },
   "file_extension": ".py",
   "mimetype": "text/x-python",
   "name": "python",
   "nbconvert_exporter": "python",
   "pygments_lexer": "ipython3",
   "version": "3.7.6"
  }
 },
 "nbformat": 4,
 "nbformat_minor": 4
}
