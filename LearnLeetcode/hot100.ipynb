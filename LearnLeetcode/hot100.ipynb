{
 "cells": [
  {
   "cell_type": "markdown",
   "metadata": {
    "id": "m-cdFYRY2MlC"
   },
   "source": [
    "# 内容\n",
    "数据结构\n",
    " - 链表\n",
    " - 数组\n",
    " - 树\n",
    " - 图\n",
    "\n",
    "解题方法\n",
    " - 迭代结构\n",
    " - 递归结构\n",
    " - 回溯思维\n",
    " - 动态规划\n",
    " - 哈希\n",
    " - 双指针\n",
    "\n",
    "题目的类型\n",
    " - 排序\n",
    " - 搜索\n",
    " - 排列与组合\n",
    "\n",
    "其他\n",
    " - 回文"
   ]
  },
  {
   "cell_type": "markdown",
   "metadata": {},
   "source": [
    "# Methodology"
   ]
  },
  {
   "cell_type": "markdown",
   "metadata": {
    "id": "vhKzKPKI4Hok"
   },
   "source": [
    "## Recursion structure\n",
    "Resursion and iteration are two basic structures in terms of code implementation\n",
    "\n",
    "strp 0: find the transition function, sub-structure\\\n",
    "step 1: initial, global variable, sometimes not necessary\\\n",
    "step 2: stop condition\\\n",
    "step 3: call the inner()\\\n",
    "step 4: you need bring the result back,sometime a argument is used sometimes use return. if you inner produce some new value, return; if inner operates an numsay, use argument\n",
    "\n",
    "**is a new id needed in the recursion?**\n",
    "```\n",
    "def mulr(n):\n",
    "  \"global operations\"\n",
    "  def inner():\n",
    "    if condition: \n",
    "      \"....\"\n",
    "      return\n",
    "    inner()\n",
    "    return # if the result is used\n",
    "```\n",
    "\n"
   ]
  },
  {
   "cell_type": "markdown",
   "metadata": {
    "id": "54N1ZSDF5H8J"
   },
   "source": [
    "### Example 1: permutation"
   ]
  },
  {
   "cell_type": "code",
   "execution_count": null,
   "metadata": {
    "colab": {
     "base_uri": "https://localhost:8080/"
    },
    "executionInfo": {
     "elapsed": 3,
     "status": "ok",
     "timestamp": 1667845553203,
     "user": {
      "displayName": "palla lin",
      "userId": "14085275430525630850"
     },
     "user_tz": -60
    },
    "id": "Rj5WRHIMvE7x",
    "outputId": "79c3743f-341c-45f4-d364-230a523a311b"
   },
   "outputs": [
    {
     "name": "stdout",
     "output_type": "stream",
     "text": [
      "[1, 2, 3]\n",
      "[1, 3, 2]\n",
      "[2, 1, 3]\n",
      "[2, 3, 1]\n",
      "[3, 1, 2]\n",
      "[3, 2, 1]\n",
      "[[], [], [], [], [], []]\n"
     ]
    }
   ],
   "source": [
    "\n",
    "import copy\n",
    "nums=[1,2,3]\n",
    "\n",
    "def permute(nums):\n",
    "  res=[]\n",
    "  def back(nums,tem):\n",
    "    # print(id(tem))\n",
    "    if len(nums)==0:\n",
    "        # print(id(tem))\n",
    "        # res.append(copy.deepcopy(tem))\n",
    "        print(tem)\n",
    "        res.append(tem)# why this is wrong? append just refer to the address rather than a new id, here need new id. \n",
    "        return\n",
    "    \n",
    "    for i in range(len(nums)):\n",
    "      tem.append(nums[i])\n",
    "      # print(id(tem))\n",
    "      back(nums[:i]+nums[i+1:],tem)\n",
    "      # print('te2',tem,id(tem))\n",
    "      # tem=tem[:-1] ##这个赋值操作产生新的id,不是简单的引用\n",
    "      # print('te',tem,id(tem))\n",
    "      tem.pop()  # how to understand ituitively\n",
    "  back(nums,[])\n",
    "  print(res)\n",
    "\n",
    "permute(nums)"
   ]
  },
  {
   "cell_type": "code",
   "execution_count": null,
   "metadata": {
    "colab": {
     "base_uri": "https://localhost:8080/"
    },
    "executionInfo": {
     "elapsed": 5,
     "status": "ok",
     "timestamp": 1668690041591,
     "user": {
      "displayName": "palla lin",
      "userId": "14085275430525630850"
     },
     "user_tz": -60
    },
    "id": "V40ERWKknrrR",
    "outputId": "f347fa11-ad0d-4d85-d90f-a6f05374f5fe"
   },
   "outputs": [
    {
     "data": {
      "text/plain": [
       "['((()))', '(()())', '()(())', '()()()', '(())()']"
      ]
     },
     "execution_count": 11,
     "metadata": {},
     "output_type": "execute_result"
    }
   ],
   "source": [
    "class Solution(object):\n",
    "    def generateParenthesis(self, n):\n",
    "        \"\"\"\n",
    "        :type n: int\n",
    "        :rtype: List[str]\n",
    "        \"\"\"\n",
    "        def check(p):            \n",
    "            s = []\n",
    "            num = len(p)\n",
    "            for i in range(0, num):\n",
    "                if len(s)==0:\n",
    "                  s.append(p[i])\n",
    "                  continue\n",
    "                if s[-1] == '(' and p[i] == ')':\n",
    "                    s.pop()\n",
    "                else:\n",
    "                    s.append(p[i])\n",
    "            if len(s)==0:\n",
    "                return True\n",
    "            else:\n",
    "                return False\n",
    "        res = set()\n",
    "        def gen(string, p):\n",
    "            if len(string)==0:\n",
    "                if check(p):\n",
    "                    res.add(p)\n",
    "                return\n",
    "            for i in range(len(string)):\n",
    "                p = p + string[i]\n",
    "                gen(string[:i]+string[i+1:], p)\n",
    "                p = p[:-1]\n",
    "        left = '(' * n\n",
    "        right = ')'* n\n",
    "        gen('()', '')\n",
    "        return list(res)\n",
    "Solution().generateParenthesis(3)"
   ]
  },
  {
   "cell_type": "code",
   "execution_count": null,
   "metadata": {
    "colab": {
     "base_uri": "https://localhost:8080/"
    },
    "executionInfo": {
     "elapsed": 6,
     "status": "ok",
     "timestamp": 1669908319821,
     "user": {
      "displayName": "palla lin",
      "userId": "14085275430525630850"
     },
     "user_tz": -60
    },
    "id": "wLRRzWvsQaZN",
    "outputId": "4c660d9d-3340-4495-f7e6-1ccfe39e853b"
   },
   "outputs": [
    {
     "name": "stdout",
     "output_type": "stream",
     "text": [
      "140221333048960\n",
      "140221333011328\n",
      "140221333010176\n",
      "140221333246272\n",
      "140221333009664\n",
      "140221333049280\n",
      "140221333010944\n",
      "140221333048960\n",
      "140221333009344\n",
      "140221333012416\n",
      "140221333011328\n",
      "140221333246272\n",
      "140221333049280\n",
      "140221333012096\n",
      "140221333247552\n"
     ]
    },
    {
     "data": {
      "text/plain": [
       "[[1, 2, 3], [1, 3, 2], [2, 1, 3], [2, 3, 1], [3, 1, 2], [3, 2, 1]]"
      ]
     },
     "execution_count": 17,
     "metadata": {},
     "output_type": "execute_result"
    }
   ],
   "source": [
    "import copy \n",
    "class Solution(object):\n",
    "    def permute(self, nums):\n",
    "        \"\"\"\n",
    "        :type nums: List[int]\n",
    "        :rtype: List[List[int]]\n",
    "        \"\"\"\n",
    "        res = []\n",
    "        N = len(nums)\n",
    "        def inner(nums, com):\n",
    "            if len(com)==N:\n",
    "                res.append(com)\n",
    "                return \n",
    "            for i in range(len(nums)):\n",
    "                com = com + [nums[i]]\n",
    "                print(id(com))\n",
    "                inner(nums[:i]+nums[i+1:], com)\n",
    "                com = com[:-1]\n",
    "        inner(nums, [])\n",
    "        return res\n",
    "\n",
    "Solution().permute([1,2,3])"
   ]
  },
  {
   "cell_type": "code",
   "execution_count": null,
   "metadata": {
    "colab": {
     "base_uri": "https://localhost:8080/"
    },
    "executionInfo": {
     "elapsed": 388,
     "status": "ok",
     "timestamp": 1669910144339,
     "user": {
      "displayName": "palla lin",
      "userId": "14085275430525630850"
     },
     "user_tz": -60
    },
    "id": "UIUiwsc2Qt6G",
    "outputId": "e74be098-77d2-441a-f2dd-edb981fd2a2f"
   },
   "outputs": [
    {
     "data": {
      "text/plain": [
       "{'a': [22, 2], 'b': [22, 2]}"
      ]
     },
     "execution_count": 22,
     "metadata": {},
     "output_type": "execute_result"
    }
   ],
   "source": [
    "item = [1,2]\n",
    "aa = {'a': item, 'b':item}\n",
    "\n",
    "aa['a'][0]=22\n",
    "aa"
   ]
  },
  {
   "cell_type": "markdown",
   "metadata": {
    "id": "ls0KgknogagW"
   },
   "source": [
    "## 双指针 Double pointer\n",
    "快慢指针\n",
    "左右指针\n",
    "滑动指针"
   ]
  },
  {
   "cell_type": "markdown",
   "metadata": {},
   "source": [
    "## 动态规划\n",
    "5. Longest Palindromic Substring\n",
    "1143. Longest Common Subsequence\n",
    "72. Edit Distance"
   ]
  },
  {
   "cell_type": "markdown",
   "metadata": {},
   "source": [
    "##### House Robber III"
   ]
  },
  {
   "cell_type": "code",
   "execution_count": null,
   "metadata": {},
   "outputs": [],
   "source": [
    "# \n",
    "from typing import List\n",
    "class Solution:\n",
    "    def rob(self, root: TreeNode) -> int:\n",
    "      f = {}\n",
    "      g = {}\n",
    "      def dfs(node):\n",
    "        dfs\n",
    "\n",
    "      return max(g[root],f[root])\n"
   ]
  },
  {
   "cell_type": "markdown",
   "metadata": {},
   "source": [
    "##### 221. Maximal Square"
   ]
  },
  {
   "cell_type": "code",
   "execution_count": null,
   "metadata": {},
   "outputs": [],
   "source": [
    "# if m=1, return 1\n",
    "class Solution:\n",
    "  def g(self, matrix: List[List[str]]) -> int:\n",
    "    m=len(matrix)\n",
    "    n=len(matrix[0])\n",
    "    for i in range(m):\n",
    "      for j in range(n):\n",
    "        if matrix[i,j] == 1:\n",
    "          p=min(m-i,m-j)\n",
    "          for r in range(1,p):\n",
    "            if matrix[i+r,j+r] == 1:\n",
    "              for s in range(r):\n",
    "                if matrix[i+s,j+r] == 1 or matrix[i+r,j+s] == 1\n",
    "\n",
    "          if matrix[i+p-1,j+p-1] == 1:\n",
    "\n",
    "    \n"
   ]
  },
  {
   "cell_type": "markdown",
   "metadata": {},
   "source": [
    "##### 300. Longest Increasing Subsequence\n"
   ]
  },
  {
   "cell_type": "code",
   "execution_count": null,
   "metadata": {},
   "outputs": [
    {
     "name": "stdout",
     "output_type": "stream",
     "text": [
      "[1, 1, 1, 2, 2, 3, 4, 4]\n",
      "4\n"
     ]
    }
   ],
   "source": [
    "from typing import List\n",
    "class Solution:\n",
    "  '''\n",
    "  Note that, you have to define state first,then the transition rule.\n",
    "  '''\n",
    "  def d(self, nums: List[int]) -> int:\n",
    "    dp=[1] * len(nums) # what is the state? the i position in dp represents maximum length of sequences end with num[i]\n",
    " \n",
    "    for i in range(1,len(nums)):\n",
    "      for j in range(0,i):\n",
    "        if nums[i] > nums[j]:\n",
    "          if dp[i] < dp[j] + 1:\n",
    "            dp[i] = dp[j] + 1\n",
    "          # dp[i] = max(dp[j],dp[j]+1)\n",
    "     \n",
    "    print(dp)\n",
    "    print(max(dp))\n",
    "\n",
    "\n",
    "s=Solution()\n",
    "\n",
    "s.d([10,9,2,5,3,7,101,18])"
   ]
  },
  {
   "cell_type": "markdown",
   "metadata": {},
   "source": [
    "##### 55. Jump Game"
   ]
  },
  {
   "cell_type": "code",
   "execution_count": null,
   "metadata": {},
   "outputs": [],
   "source": [
    "from typing import List\n",
    "class Solution:\n",
    "    def canJump(self, nums: List[int]) -> bool:\n",
    "        max_position=0\n",
    "        for i in range(len(nums)-1):\n",
    "          if i <= max_position: # travel through you can reach\n",
    "            max_position=max(max_position,i+nums[i])\n",
    "          if max_position >= len(nums)-1:\n",
    "            return True\n",
    "        return False\n",
    "\n",
    "s=Solution()\n",
    "s.canJump([3,2,1,0,4])"
   ]
  },
  {
   "cell_type": "markdown",
   "metadata": {},
   "source": [
    "#### maximum subnumsay"
   ]
  },
  {
   "cell_type": "code",
   "execution_count": null,
   "metadata": {},
   "outputs": [],
   "source": [
    "from typing import List\n",
    "class Solution:\n",
    "    def g(self, nums: List[int]) -> int:\n",
    "      maximum=nums[0]\n",
    "      for i in range(len(nums)):\n",
    "        for j in range(i+1,len(nums)):\n",
    "          temp=sum(nums[i:j])\n",
    "          if temp > maximum:\n",
    "            print(nums[i:j])\n",
    "            maximum=temp\n",
    "      print(maximum)\n",
    "    def d(self, nums: List[int]) -> int:\n",
    "      #d[i][j] the sum of nums[i:j]\n",
    "      dp=[[0]*(len(nums)+1) for i in range(len(nums))]\n",
    "      # initialize\n",
    "      for i in range(len(nums)):\n",
    "        dp[i][i+1]=nums[i]\n",
    "      \n",
    "      d[i]\n",
    "\n",
    "s=Solution()\n",
    "# s.g([-2,1,-3,4,-1,2,1,-5,4])\n",
    "s.d([-2,1,-3,4,-1,2,1,-5,4])    \n",
    "\n"
   ]
  },
  {
   "cell_type": "markdown",
   "metadata": {},
   "source": [
    "#### 5. Longest Palindromic Substring"
   ]
  },
  {
   "cell_type": "code",
   "execution_count": null,
   "metadata": {},
   "outputs": [
    {
     "name": "stdout",
     "output_type": "stream",
     "text": [
      "uvlvu\n",
      "CPU times: user 238 ms, sys: 0 ns, total: 238 ms\n",
      "Wall time: 238 ms\n"
     ]
    }
   ],
   "source": [
    "%%time\n",
    "from typing import List\n",
    "class Solution:\n",
    "# First how to represent state d[i][j]\n",
    "  def solu_dp(s):\n",
    "    n = len(s)\n",
    "    dp = [[False] * n for _ in range(n)]\n",
    "    ans = \"\"\n",
    "    # 枚举子串的长度 l+1\n",
    "    for m in range(n):\n",
    "        # 枚举子串的起始位置 i，这样可以通过 j=i+l 得到子串的结束位置\n",
    "        for i in range(n):\n",
    "            j = i + m\n",
    "            if j >= len(s):\n",
    "                break\n",
    "            if m == 0:\n",
    "                dp[i][j] = True\n",
    "            elif m == 1:\n",
    "                dp[i][j] = (s[i] == s[j])\n",
    "            else:\n",
    "                dp[i][j] = (dp[i + 1][j - 1] and s[i] == s[j])\n",
    "            if dp[i][j] and m + 1 > len(ans):\n",
    "                ans = s[i:j+1]\n",
    "    print(ans)\n",
    "    return ans\n",
    "    def check(s):\n",
    "  left=0\n",
    "  right=len(s)-1\n",
    "  while(left < right):\n",
    "    if s[left]!=s[right]:\n",
    "      return(False)\n",
    "    left=left+1\n",
    "    right=right-1\n",
    "  return(True)\n",
    "\n",
    "def greedy(s):\n",
    "  for i in range(len(s)):\n",
    "    for j in range(i+2,len(s)+1):\n",
    "      # print(s[i:j],i,j)\n",
    "      if check(s[i:j]):\n",
    "        print(s[i:j])\n",
    "s=\"reifadyqgztixemwswtccodfnchcovrmiooffbbijkecuvlvukecutasfxqcqygltrogrdxlrslbnzktlanycgtniprjlospzhhgdrqcwlukbpsrumxguskubokxcmswjnssbkutdhppsdckuckcbwbxpmcmdicfjxaanoxndlfpqwneytatcbyjmimyawevmgirunvmdvxwdjbiqszwhfhjmrpexfwrbzkipxfowcbqjckaotmmgkrbjvhihgwuszdrdiijkgjoljjdubcbowvxslctleblfmdzmvdkqdxtiylabrwaccikkpnpsgcotxoggdydqnuogmxttcycjorzrtwtcchxrbbknfmxnonbhgbjjypqhbftceduxgrnaswtbytrhuiqnxkivevhprcvhggugrmmxolvfzwadlnzdwbtqbaveoongezoymdrhywxcxvggsewsxckucmncbrljskgsgtehortuvbtrsfisyewchxlmxqccoplhlzwutoqoctgfnrzhqctxaqacmirrqdwsbdpqttmyrmxxawgtjzqjgffqwlxqxwxrkgtzqkgdulbxmfcvxcwoswystiyittdjaqvaijwscqobqlhskhvoktksvmguzfankdigqlegrxxqpoitdtykfltohnzrcgmlnhddcfmawiriiiblwrttveedkxzzagdzpwvriuctvtrvdpqzcdnrkgcnpwjlraaaaskgguxzljktqvzzmruqqslutiipladbcxdwxhmvevsjrdkhdpxcyjkidkoznuagshnvccnkyeflpyjzlcbmhbytxnfzcrnmkyknbmtzwtaceajmnuyjblmdlbjdjxctvqcoqkbaszvrqvjgzdqpvmucerumskjrwhywjkwgligkectzboqbanrsvynxscpxqxtqhthdytfvhzjdcxgckvgfbldsfzxqdozxicrwqyprgnadfxsionkzzegmeynye\"    \n",
    "solu_dp(s)"
   ]
  },
  {
   "cell_type": "code",
   "execution_count": null,
   "metadata": {},
   "outputs": [
    {
     "data": {
      "image/png": "[encoded data removed]",
      "text/plain": [
       "<Figure size 432x288 with 1 Axes>"
      ]
     },
     "metadata": {},
     "output_type": "display_data"
    }
   ],
   "source": [
    "import matplotlib.pyplot as plt\n",
    "import numpy as np\n",
    "# if using a jupyter notebook\n",
    "%matplotlib inline  \n",
    "\n",
    "x = np.arange(0,100,0.1)   # start,stop,step\n",
    "f = np.random.randn(1,100).reshape(-1)\n",
    "y=0\n",
    "for i in f:\n",
    "  y += np.sin(i*x)\n",
    "y = y/f.shape[0]\n",
    "plt.plot(x,y)\n",
    "plt.show()\n"
   ]
  },
  {
   "cell_type": "code",
   "execution_count": null,
   "metadata": {},
   "outputs": [
    {
     "data": {
      "text/plain": [
       "126"
      ]
     },
     "metadata": {},
     "output_type": "display_data"
    }
   ],
   "source": [
    "f.shape[0]"
   ]
  },
  {
   "cell_type": "code",
   "execution_count": null,
   "metadata": {},
   "outputs": [
    {
     "name": "stdout",
     "output_type": "stream",
     "text": [
      "0 0 0\n"
     ]
    },
    {
     "ename": "IndexError",
     "evalue": "list index out of range",
     "output_type": "error",
     "traceback": [
      "\u001b[0;31m---------------------------------------------------------------------------\u001b[0m\n",
      "\u001b[0;31mIndexError\u001b[0m                                Traceback (most recent call last)\n",
      "Cell \u001b[0;32mIn[8], line 8\u001b[0m\n",
      "\u001b[1;32m      6\u001b[0m k \u001b[39m=\u001b[39m \u001b[39m0\u001b[39m\n",
      "\u001b[1;32m      7\u001b[0m \u001b[39mprint\u001b[39m(i,j,k)\n",
      "\u001b[0;32m----> 8\u001b[0m \u001b[39mwhile\u001b[39;00m (num1[i\u001b[39m+\u001b[39;49mk] \u001b[39m==\u001b[39m num2[j\u001b[39m+\u001b[39mk]):  \u001b[39m# and i+k < A.length etc.\u001b[39;00m\n",
      "\u001b[1;32m      9\u001b[0m     k \u001b[39m+\u001b[39m\u001b[39m=\u001b[39m \u001b[39m1\u001b[39m\n",
      "\u001b[1;32m     10\u001b[0m ans \u001b[39m=\u001b[39m \u001b[39mmax\u001b[39m(ans, k)\n",
      "\n",
      "\u001b[0;31mIndexError\u001b[0m: list index out of range"
     ]
    }
   ],
   "source": [
    "num1 = [1, 2, 3]\n",
    "num2 = [1,2,3,5]\n",
    "ans = 0\n",
    "for i in range(len(num1)):\n",
    "    for j in range(len(num2)):\n",
    "        k = 0\n",
    "        print(i,j,k)\n",
    "        while (num1[i+k] == num2[j+k]):  # and i+k < A.length etc.\n",
    "            k += 1\n",
    "        ans = max(ans, k)\n",
    "\n"
   ]
  },
  {
   "cell_type": "markdown",
   "metadata": {},
   "source": [
    "# 基本问题类型"
   ]
  },
  {
   "cell_type": "markdown",
   "metadata": {
    "id": "ArZbtLFzgJR1"
   },
   "source": [
    "## Searching\n",
    "\n",
    "\n",
    "```\n",
    "# Template 1\n",
    "\n",
    "if target not in nums:\n",
    "  return [-1, -1]\n",
    "        \n",
    "N = len(nums)\n",
    "left = 0\n",
    "right = N-1\n",
    "res = [-1, -1]\n",
    "while left<=right:\n",
    "    if res[0] == -1: \n",
    "        if nums[left] != target:\n",
    "            left +=1\n",
    "        else:\n",
    "            res[0]=left\n",
    "    if res[1] == -1:\n",
    "        if nums[right] != target:\n",
    "            right -=1\n",
    "        else:\n",
    "            res[1]=right\n",
    "    if res[0] != -1 and res[1] != -1:\n",
    "        break\n",
    "return res\n",
    "```\n",
    "\n"
   ]
  },
  {
   "cell_type": "markdown",
   "metadata": {
    "id": "EHev8RXOmCcz"
   },
   "source": [
    "\n",
    "### DFS BSF\n",
    "\n",
    "The key difference is how to store unvisted items. If using queue, it is a Bfs, \n",
    "if using stack, it is dfs.\n"
   ]
  },
  {
   "cell_type": "code",
   "execution_count": null,
   "metadata": {
    "id": "2rE57In_zgCa"
   },
   "outputs": [],
   "source": [
    "class TreeNode(object):\n",
    "    def __init__(self, val=0, left=None, right=None):\n",
    "        self.val = val\n",
    "        self.left = left\n",
    "        self.right = right\n",
    "\n",
    "root = [3,9,20,None,None,15,7]\n",
    "\n",
    "\n",
    "# stack\n",
    "a=[1,2,3,4]\n",
    "a.append(5)\n",
    "print(a)\n",
    "a.pop()\n",
    "print(a)\n",
    "a[-1]\n",
    "\n",
    "stack=[]\n",
    "seen=set()\n",
    "def dfs(A):\n",
    "  if A not in seen:\n",
    "    print(A)\n",
    "    seen.add(A)\n",
    "  \n",
    "  for a in graph[A]:\n",
    "    if a not in seen:\n",
    "        stack.append(a)\n",
    "  if len(stack)==0:\n",
    "    return\n",
    "\n",
    "  \n",
    "    \n",
    "  a = stack[-1]\n",
    "  stack.pop()\n",
    "  dfs(a)\n",
    "  \n",
    "dfs('A')\n",
    "print('-------')\n",
    "seen=set()\n",
    "queue=[]\n",
    "def Bfs(A):\n",
    "  if A not in seen:\n",
    "    print(A)\n",
    "    seen.add(A)\n",
    "  for a in graph[A]:\n",
    "    if a not in seen:\n",
    "      queue.append(a)\n",
    "  if len(queue)==0:\n",
    "    return\n",
    "  a = queue[0]\n",
    "  del queue[0]\n",
    "  Bfs(a)\n",
    "Bfs(\"A\")\n",
    "\n",
    "    \n",
    "    # if len(stack)==0:\n",
    "    #   break\n",
    "    \n"
   ]
  },
  {
   "cell_type": "code",
   "execution_count": null,
   "metadata": {},
   "outputs": [],
   "source": [
    "class Solution(object):\n",
    "    def levelOrder(self, root):\n",
    "        \"\"\"\n",
    "        :type root: TreeNode\n",
    "        :rtype: List[List[int]]\n",
    "        \"\"\"\n",
    "        if root is None:\n",
    "            return []\n",
    "        q = [root]\n",
    "        res = []\n",
    "        while q:\n",
    "            res.append([node.val for node in q])\n",
    "            tq = []\n",
    "            for node in q:\n",
    "                if node.left is not None:\n",
    "                    tq.append(node.left)\n",
    "                if node.right:\n",
    "                   tq.append(node.right)\n",
    "            q = tq\n",
    "        return res"
   ]
  },
  {
   "cell_type": "markdown",
   "metadata": {
    "id": "zVYwA0WZrwf0"
   },
   "source": [
    "### Binary search"
   ]
  },
  {
   "cell_type": "code",
   "execution_count": null,
   "metadata": {
    "colab": {
     "base_uri": "https://localhost:8080/"
    },
    "executionInfo": {
     "elapsed": 246,
     "status": "ok",
     "timestamp": 1653234997053,
     "user": {
      "displayName": "palla lin",
      "userId": "14085275430525630850"
     },
     "user_tz": -120
    },
    "id": "w_deUXMRr5Eg",
    "outputId": "f2418459-4fa9-4fc5-c479-2d01713cb584"
   },
   "outputs": [
    {
     "name": "stdout",
     "output_type": "stream",
     "text": [
      "0 4\n",
      "2\n"
     ]
    }
   ],
   "source": [
    "# stopping criterion, if hit or not hit\n",
    "\n",
    "\n",
    "nums = [ 2, 3, 4, 10, 40 ] \n",
    "def bs(nums, L, R, t):\n",
    "  print(L,R)\n",
    "  mid = (L+R)//2\n",
    "  if L>R :\n",
    "    return False\n",
    "\n",
    "  if nums[mid]==t:\n",
    "    return mid\n",
    "\n",
    "  if nums[mid]>t:\n",
    "    tar = bs(nums,L,mid-1,t)\n",
    "  else:\n",
    "    tar = bs(nums,mid+1,R,t)\n",
    "  return tar\n",
    "  \n",
    "\n",
    "a = bs(nums,0,len(nums)-1,4)\n",
    "print(a)"
   ]
  },
  {
   "cell_type": "markdown",
   "metadata": {
    "id": "vnG6R8i8kSME"
   },
   "source": [
    "### BFPRT"
   ]
  },
  {
   "cell_type": "code",
   "execution_count": null,
   "metadata": {
    "colab": {
     "base_uri": "https://localhost:8080/"
    },
    "executionInfo": {
     "elapsed": 234,
     "status": "ok",
     "timestamp": 1653240399908,
     "user": {
      "displayName": "palla lin",
      "userId": "14085275430525630850"
     },
     "user_tz": -120
    },
    "id": "gwVYO5qfubzh",
    "outputId": "409e8698-b365-451f-dc41-a933be17e24c"
   },
   "outputs": [
    {
     "data": {
      "text/plain": [
       "8"
      ]
     },
     "execution_count": 68,
     "metadata": {},
     "output_type": "execute_result"
    }
   ],
   "source": [
    "num=[9,1,2,3,4,5,6,7,8]\n",
    "def BFPRT(num,t):\n",
    "  if len(num)<t:\n",
    "    return False\n",
    "  if len(num)==1:\n",
    "    return num\n",
    "  c=len(num)\n",
    "  n = len(num)//c if len(num)%c==0 else len(num)//c+1\n",
    "  \n",
    "  middle=[]\n",
    "  for i in range(n):\n",
    "    sub_num=sorted(num[i*c:c*i+c])\n",
    "    middle.append(sub_num[len(sub_num)//2-1 if len(sub_num)%2==0 else len(sub_num)//2 ])\n",
    "  middle = sorted(middle)\n",
    "  x = middle[len(middle)//2-1 if len(middle)%2==0 else len(middle)//2 ]\n",
    " \n",
    "  s_x = []\n",
    "  b_x= []\n",
    "  \n",
    "  \n",
    "  for i in num:\n",
    "    if i<=x:\n",
    "      s_x.append(i)\n",
    "    else:\n",
    "      b_x.append(i)\n",
    " \n",
    "  if len(s_x)==t:   \n",
    "    return x\n",
    "  elif len(s_x)<t:\n",
    "    return BFPRT(b_x,t-len(s_x))\n",
    "  else:\n",
    "    return BFPRT(s_x,t)\n",
    "  \n",
    "\n",
    "\n",
    "\n",
    "BFPRT(num,8)\n",
    "\n"
   ]
  },
  {
   "cell_type": "code",
   "execution_count": null,
   "metadata": {
    "colab": {
     "base_uri": "https://localhost:8080/"
    },
    "executionInfo": {
     "elapsed": 412,
     "status": "ok",
     "timestamp": 1624110876475,
     "user": {
      "displayName": "palla lin",
      "photoUrl": "",
      "userId": "14085275430525630850"
     },
     "user_tz": -120
    },
    "id": "yQN0aol4mpaS",
    "outputId": "125b34f6-b4e7-44ab-a994-578b6530031b"
   },
   "outputs": [
    {
     "name": "stdout",
     "output_type": "stream",
     "text": [
      "{'a': {'s': {'d': {-1: True}}, 'f': {'g': {-1: True}}}}\n",
      "['a']\n"
     ]
    }
   ],
   "source": [
    "print(obj.root)\n",
    "obj.dfs()"
   ]
  },
  {
   "cell_type": "code",
   "execution_count": null,
   "metadata": {
    "id": "XdR0Ztmr7xEl"
   },
   "outputs": [],
   "source": []
  },
  {
   "cell_type": "markdown",
   "metadata": {
    "id": "aiq-anwG7pTw"
   },
   "source": [
    "## Sorting\n",
    "\n",
    "https://www.cnblogs.com/southtonorth/p/12287415.html#26-%E5%BF%AB%E9%80%9F%E6%8E%92%E5%BA%8F"
   ]
  },
  {
   "cell_type": "markdown",
   "metadata": {
    "id": "cYQfKSNvxGi-"
   },
   "source": [
    "### Bubble sort 冒泡排序\n",
    "move the smallest or biggest element to the last position at each iteration\n"
   ]
  },
  {
   "cell_type": "code",
   "execution_count": 16,
   "metadata": {
    "colab": {
     "base_uri": "https://localhost:8080/"
    },
    "executionInfo": {
     "elapsed": 254,
     "status": "ok",
     "timestamp": 1670595440719,
     "user": {
      "displayName": "palla lin",
      "userId": "14085275430525630850"
     },
     "user_tz": -60
    },
    "id": "aiaLwiDFAEHf",
    "outputId": "80abb7e2-44aa-4cd8-982e-05376b6b0ae2"
   },
   "outputs": [
    {
     "data": {
      "text/plain": [
       "[1, 2, 2, 3, 4, 5, 6, 7, 9]"
      ]
     },
     "execution_count": 16,
     "metadata": {},
     "output_type": "execute_result"
    }
   ],
   "source": [
    "\n",
    "num = [5,2,4,3,9,2,7,1,6]\n",
    "# 冒泡排序\n",
    "def bubble_sort(num):\n",
    "  N = len(num)\n",
    "  for i in range(0, N-1): \n",
    "    swapped = False\n",
    "    for j in range(0, N-i-1):\n",
    "      if num[j] > num[j+1]: \n",
    "        num[j], num[j+1] = num[j+1], num[j]\n",
    "        swapped = True\n",
    "    if not swapped:\n",
    "      break\n",
    "  return num\n",
    "bubble_sort(num)\n"
   ]
  },
  {
   "cell_type": "markdown",
   "metadata": {
    "id": "qmQlJu-ww-I0"
   },
   "source": [
    "### select sort 选择排序\n",
    "put the smallest or largest element to the end of sorted list"
   ]
  },
  {
   "cell_type": "code",
   "execution_count": 20,
   "metadata": {
    "id": "WTgzvNv6OzjT"
   },
   "outputs": [
    {
     "data": {
      "text/plain": [
       "[1, 2, 2, 3, 4, 5, 6, 7, 9]"
      ]
     },
     "execution_count": 20,
     "metadata": {},
     "output_type": "execute_result"
    }
   ],
   "source": [
    "\n",
    "num = [5,2,4,3,9,2,7,1,6]\n",
    "def select_sort(num):\n",
    "  N = len(num)\n",
    "  for i in range(N):\n",
    "    for j in range(i+1, N):\n",
    "      if num[i] > num[j]:\n",
    "        num[i], num[j] = num[j], num[i]\n",
    "  return num\n",
    "select_sort(num)"
   ]
  },
  {
   "cell_type": "markdown",
   "metadata": {
    "id": "7CY9KmKtuLFl"
   },
   "source": [
    "### Quick sorting 快排"
   ]
  },
  {
   "cell_type": "code",
   "execution_count": null,
   "metadata": {
    "colab": {
     "base_uri": "https://localhost:8080/"
    },
    "executionInfo": {
     "elapsed": 276,
     "status": "ok",
     "timestamp": 1670603490800,
     "user": {
      "displayName": "palla lin",
      "userId": "14085275430525630850"
     },
     "user_tz": -60
    },
    "id": "yhdTPciNXcXe",
    "outputId": "6a0598f8-592c-4df8-f4ca-88b0974cd9ac"
   },
   "outputs": [
    {
     "name": "stdout",
     "output_type": "stream",
     "text": [
      "[5, 4, 3, 2, 1, 6, 8, 7, 9] 5 8\n"
     ]
    },
    {
     "data": {
      "text/plain": [
       "5"
      ]
     },
     "execution_count": 24,
     "metadata": {},
     "output_type": "execute_result"
    }
   ],
   "source": [
    "num = [5,9,4,3,2,1,8,7,6]\n",
    "def partition(nums, low, high):\n",
    "    i = low \n",
    "    pivot = nums[high]\n",
    "    for j in range(low, high): # 把所有符合条件的元素放在一边，用I=i 来记录位置\n",
    "      if nums[j] < pivot:\n",
    "        nums[i],nums[j]=nums[j],nums[i]\n",
    "        i += 1\n",
    "    j=high     \n",
    "    nums[i],nums[j]=nums[j],nums[i]\n",
    "    print(nums,i,j)\n",
    "    \n",
    "    return (i)\n",
    "partition(num, 0, 8)"
   ]
  },
  {
   "cell_type": "code",
   "execution_count": null,
   "metadata": {
    "colab": {
     "base_uri": "https://localhost:8080/"
    },
    "executionInfo": {
     "elapsed": 264,
     "status": "ok",
     "timestamp": 1670603883149,
     "user": {
      "displayName": "palla lin",
      "userId": "14085275430525630850"
     },
     "user_tz": -60
    },
    "id": "2d62QEBZ7vPx",
    "outputId": "dd7c1252-a4e4-4a78-f677-5d195a1a9437"
   },
   "outputs": [
    {
     "name": "stdout",
     "output_type": "stream",
     "text": [
      "[5, 4, 3, 2, 1, 6, 8, 7, 9] 5 8\n",
      "[1, 4, 3, 2, 5, 6, 8, 7, 9] 0 4\n",
      "[1, 4, 3, 2, 5, 6, 8, 7, 9] 4 4\n",
      "[1, 2, 3, 4, 5, 6, 8, 7, 9] 1 3\n",
      "[1, 2, 3, 4, 5, 6, 8, 7, 9] 3 3\n",
      "[1, 2, 3, 4, 5, 6, 8, 7, 9] 2 2\n",
      "[1, 2, 3, 4, 5, 6, 8, 7, 9] 8 8\n",
      "[1, 2, 3, 4, 5, 6, 7, 8, 9] 6 7\n",
      "[1, 2, 3, 4, 5, 6, 7, 8, 9] 7 7\n"
     ]
    }
   ],
   "source": [
    "num = [5,9,4,3,2,1,8,7,6]\n",
    "def quick(num):\n",
    "  def inner(num,i,j):\n",
    "    if i>j:\n",
    "      return \n",
    "    p=partition(num,i,j)\n",
    "    inner(num,i,p-1)\n",
    "    inner(num,p+1,j)\n",
    "  inner(num,0,len(num)-1)\n",
    "\n",
    "quick(num)\n",
    "\n",
    "    \n",
    "\n"
   ]
  },
  {
   "cell_type": "markdown",
   "metadata": {},
   "source": [
    "### heap sorting 堆排序"
   ]
  },
  {
   "cell_type": "code",
   "execution_count": 19,
   "metadata": {},
   "outputs": [
    {
     "data": {
      "text/plain": [
       "[1, 2, 3, 4, 5, 6, 7, 8, 9]"
      ]
     },
     "execution_count": 19,
     "metadata": {},
     "output_type": "execute_result"
    }
   ],
   "source": [
    "nums = [5, 4, 3, 2, 1, 6, 8, 7, 9]\n",
    "def heap(nums, n, i):\n",
    "    largest = i\n",
    "    left = 2*i+1\n",
    "    right = 2*i+2\n",
    "    if right < n and nums[right] > nums[i]: # right < n, filter out leaf node\n",
    "        largest = right\n",
    "    if left < n and nums[left] > nums[largest]: # left < n, filter out leaf node\n",
    "        largest = left\n",
    "    if largest != i:\n",
    "        nums[i], nums[largest] = nums[largest], nums[i]\n",
    "        heap(nums, n,largest)\n",
    "def sort(nums):  \n",
    "    n = len(nums)\n",
    "    for i in range(n, -1, -1):\n",
    "        heap(nums,n ,i)\n",
    "    for i in range(n-1, 0, -1):\n",
    "        nums[0], nums[i], = nums[i], nums[0]\n",
    "        heap(nums, i ,0) \n",
    "    return nums\n",
    "sort(nums)\n"
   ]
  },
  {
   "cell_type": "markdown",
   "metadata": {},
   "source": [
    "### merge sort 归并排序"
   ]
  },
  {
   "cell_type": "code",
   "execution_count": 2,
   "metadata": {},
   "outputs": [],
   "source": [
    "# 合并两个有序列表\n",
    "nums1 = [2,4]\n",
    "nums2 = [1, 3, 5, 7]\n",
    "def merge(left,right):\n",
    "    res=[]\n",
    "    l,r=0,0\n",
    "    while l<len(left) and r<len(right):\n",
    "        if left[l]<right[r]:\n",
    "            res.append(left[l])\n",
    "            l+=1\n",
    "        else:\n",
    "            res.append(right[r])\n",
    "            r+=1\n",
    "\n",
    "    res+=left[l:]\n",
    "    res+=right[r:]\n",
    "    return res\n",
    "# 分裂列表\n",
    "def merge_sort(nums):\n",
    "    if len(nums) <= 1:\n",
    "        return nums\n",
    "    mid = len(nums) // 2\n",
    "    return merge(merge_sort(nums[:mid]), merge_sort(nums[mid:]))"
   ]
  },
  {
   "cell_type": "code",
   "execution_count": 5,
   "metadata": {},
   "outputs": [
    {
     "name": "stdout",
     "output_type": "stream",
     "text": [
      "0.0010051727294921875 0.008992910385131836\n"
     ]
    }
   ],
   "source": [
    "\n",
    "def merge_2(left,right):\n",
    "    res = []\n",
    "    def inner(left,right):\n",
    "        if len(left)==0 and len(right)!=0:\n",
    "            res.extend(right)\n",
    "            return \n",
    "        if len(right)==0 and len(left)!=0:\n",
    "            res.extend(left)\n",
    "            return \n",
    "        if len(right)==0 and len(left)==0:\n",
    "            return \n",
    " \n",
    "        if left[0] <= right[0]:\n",
    "            res.append(left[0])\n",
    "            inner(left[1:], right)\n",
    "        if left[0] > right[0]:\n",
    "            res.append(right[0])\n",
    "            inner(left, right[1:])\n",
    "    inner(left, right)\n",
    "    return res\n",
    "import time\n",
    "nums1 = [2]\n",
    "nums2 = [1]\n",
    "for i in range(500):\n",
    "    nums1.append(nums1[i]+2)\n",
    "    nums2.append(nums2[i]+2)\n",
    "\n",
    "t1 = time.time()\n",
    "merge(nums1, nums2)\n",
    "t2 = time.time()\n",
    "merge_2(nums1, nums2)\n",
    "t3 = time.time()\n",
    "print(t2-t1, t3-t2)\n",
    "            "
   ]
  },
  {
   "cell_type": "markdown",
   "metadata": {},
   "source": [
    "### 计数排序"
   ]
  },
  {
   "cell_type": "code",
   "execution_count": 8,
   "metadata": {},
   "outputs": [
    {
     "data": {
      "text/plain": [
       "[2, 4, 4, 4, 5, 6, 7, 7, 9]"
      ]
     },
     "execution_count": 8,
     "metadata": {},
     "output_type": "execute_result"
    }
   ],
   "source": [
    "def counting_sort(arr):\n",
    "\n",
    "    m = min(arr)\n",
    "    # 对负数设置一个offset\n",
    "    offset = 0\n",
    "    if m < 0:\n",
    "        offset = -m\n",
    "        for i in range(len(arr)):\n",
    "            arr[i] += offset\n",
    "    k = max(arr)\n",
    "    \n",
    "    temp_arr = [0] * (k + 1)\n",
    "    \n",
    "    for i in range(0, len(arr)):\n",
    "        temp_arr[arr[i]] += 1\n",
    "    # print(temp_arr)\n",
    "    # for i in range(1, k + 1):\n",
    "    #     # 向后叠加\n",
    "    #     temp_arr[i] += temp_arr[i - 1]\n",
    "    # print(temp_arr)\n",
    "    # result_arr = arr.copy()\n",
    "\n",
    "    # for i in range(len(arr) - 1, -1, -1):\n",
    "    #     # arr[i]的排位看temp_arr[arr[i]]的数值，并减一（自身）\n",
    "    #     result_arr[temp_arr[arr[i]] - 1] = arr[i] - offset\n",
    "    #     # 针对重复位情况\n",
    "    #     temp_arr[arr[i]] -= 1 \n",
    "    result_arr = []\n",
    "    for i in range(k+1):\n",
    "        for j in range(temp_arr[i]):\n",
    "            result_arr.append(i)\n",
    "    return result_arr\n",
    "nums = [5, 4, 4, 2, 4, 6, 7, 7, 9]\n",
    "counting_sort(nums)"
   ]
  },
  {
   "cell_type": "markdown",
   "metadata": {
    "id": "OfjNFrxuH2bB"
   },
   "source": [
    "## 排列组合 combination & permutation"
   ]
  },
  {
   "cell_type": "code",
   "execution_count": null,
   "metadata": {
    "colab": {
     "base_uri": "https://localhost:8080/"
    },
    "executionInfo": {
     "elapsed": 499,
     "status": "ok",
     "timestamp": 1668361880457,
     "user": {
      "displayName": "palla lin",
      "userId": "14085275430525630850"
     },
     "user_tz": -60
    },
    "id": "_BwEqumX6afE",
    "outputId": "bc1a2132-7647-4f74-d6ab-29965f0afdd3"
   },
   "outputs": [
    {
     "name": "stdout",
     "output_type": "stream",
     "text": [
      "[['a', 'd', 'g'], ['a', 'd', 'h'], ['a', 'd', 'i'], ['a', 'e', 'g'], ['a', 'e', 'h'], ['a', 'e', 'i'], ['a', 'f', 'g'], ['a', 'f', 'h'], ['a', 'f', 'i'], ['b', 'd', 'g'], ['b', 'd', 'h'], ['b', 'd', 'i'], ['b', 'e', 'g'], ['b', 'e', 'h'], ['b', 'e', 'i'], ['b', 'f', 'g'], ['b', 'f', 'h'], ['b', 'f', 'i'], ['c', 'd', 'g'], ['c', 'd', 'h'], ['c', 'd', 'i'], ['c', 'e', 'g'], ['c', 'e', 'h'], ['c', 'e', 'i'], ['c', 'f', 'g'], ['c', 'f', 'h'], ['c', 'f', 'i']]\n"
     ]
    }
   ],
   "source": [
    "# 当我们说递归，通常利用的是从后往回的运算顺序；回溯，在前向过程，就会有一些操作\n",
    "class Solution(object):\n",
    "    def letterCombinations(self, digits):\n",
    "        \"\"\"\n",
    "        :type digits: str\n",
    "        :rtype: List[str]\n",
    "        \"\"\"\n",
    "        import copy\n",
    "        dic = {'2':['a', 'b','c'], '3':['d','e','f'], '4':['g','h','i'],\n",
    "        '5':['j','k','l'], '6':['m','n','o'],'7':['p','q','r','s'],'8':['t','u','v'],'9':['w','x','y','z']}\n",
    "        coms = []\n",
    "        if not digits:\n",
    "            return coms\n",
    "        def inner(com, k=0):\n",
    "          if len(com) >= len(digits):\n",
    "            coms.append(copy.deepcopy(com))\n",
    "            return\n",
    "          \n",
    "          for letter in dic[digits[k]]:\n",
    "              com.append(letter)\n",
    "              \n",
    "              inner(com, k+1)\n",
    "              com.pop()\n",
    "          \n",
    "        inner([],k=0)\n",
    "        print(coms)\n",
    "# k record the recursion depth\n",
    "# pop() go back to last layer\n",
    "# deepcopy() generate new id\n",
    "# DFS\n",
    "Solution().letterCombinations('234')"
   ]
  },
  {
   "cell_type": "code",
   "execution_count": 9,
   "metadata": {
    "colab": {
     "base_uri": "https://localhost:8080/",
     "height": 204
    },
    "executionInfo": {
     "elapsed": 13,
     "status": "error",
     "timestamp": 1668726448135,
     "user": {
      "displayName": "palla lin",
      "userId": "14085275430525630850"
     },
     "user_tz": -60
    },
    "id": "XQBWr8xe0_EM",
    "outputId": "c4cf3b4d-f138-416b-8a93-78b00f7574c6"
   },
   "outputs": [],
   "source": [
    "# permute\n",
    "class Solution(object):\n",
    "    def permute(self, nums):\n",
    "        \"\"\"\n",
    "        :type nums: List[int]\n",
    "        :rtype: List[List[int]]\n",
    "        \"\"\"\n",
    "        res = []\n",
    "        N = len(nums)\n",
    "        def inner(nums, temp):\n",
    "            if len(nums)==0:\n",
    "                res.append(temp)\n",
    "                return\n",
    "            for i in range(len(nums)):\n",
    "                temp = temp + [nums[i]]\n",
    "                inner(nums[:i]+nums[i+1:], temp)\n",
    "                temp = temp[:-1]\n",
    "        inner(nums, [])\n",
    "        return res"
   ]
  },
  {
   "cell_type": "markdown",
   "metadata": {},
   "source": [
    "# 数据结构"
   ]
  },
  {
   "cell_type": "markdown",
   "metadata": {},
   "source": [
    "## 数组"
   ]
  },
  {
   "cell_type": "markdown",
   "metadata": {
    "id": "I_wu-JUWjOtU"
   },
   "source": [
    "## 链表\n",
    "\n",
    "通常是用while循环， 要确定条件是当node， 还是node.next"
   ]
  },
  {
   "cell_type": "code",
   "execution_count": null,
   "metadata": {
    "id": "CT_UcpqN60Bi"
   },
   "outputs": [],
   "source": [
    "# reverse linked list\n",
    "class Solution(object):\n",
    "  def reverseList(self, head):\n",
    "      pre = None\n",
    "      cur = head\n",
    "      while cur is not None:\n",
    "          nex = cur.next \n",
    "          cur.next = pre\n",
    "          pre = cur\n",
    "          cur = nex\n",
    "      return pre\n",
    "# 链表相交\n",
    "class Solution(object):\n",
    "    def getIntersectionNode(self, headA, headB):\n",
    "        \"\"\"\n",
    "        :type head1, head1: ListNode\n",
    "        :rtype: ListNode\n",
    "        \"\"\"\n",
    "        A, B = headA, headB\n",
    "        while A != B:\n",
    "            A = A.next if A else headB\n",
    "            B = B.next if B else headA\n",
    "        return A\n",
    "\n",
    "# 环形链表: 快慢指针\n",
    "class Solution(object):\n",
    "    def hasCycle(self, head):\n",
    "      slow = head\n",
    "      fast = head.next\n",
    "      while slow != fast:\n",
    "        if fast is None and fast.next is None: # fast.next\n",
    "          return False\n",
    "        slow = head.next\n",
    "        fast = fast.next.next\n",
    "# 环形链表II: 哈希表，3 个指针\n",
    "# 删除倒数第N个节点：相差N的两个指针\n",
    "# 回文链表\n",
    "def end_of_first_half( head):\n",
    "    fast = head\n",
    "    slow = head\n",
    "    while fast.next is not None and fast.next.next is not None:\n",
    "        fast = fast.next.next\n",
    "        slow = slow.next\n",
    "    return slow\n",
    "\n",
    "# 双向链表\n",
    "class DLinkedNode:\n",
    "    def __init__(self, key=0, value=0):\n",
    "        self.key = key\n",
    "        self.value = value\n",
    "        self.prev = None\n",
    "        self.next = None\n",
    "\n",
    "class LRUCache(object):\n",
    "\n",
    "    def __init__(self, capacity):\n",
    "        \"\"\"\n",
    "        :type capacity: int\n",
    "        \"\"\"\n",
    "        self.capacity = capacity\n",
    "        self.cache = {}\n",
    "        self.head = DLinkedNode()\n",
    "        self.tail = DLinkedNode\n",
    "        self.head.next = self.tail\n",
    "        self.tail.prev = self.head\n",
    "        self.size = 0\n",
    "\n",
    "    def get(self, key):\n",
    "        \"\"\"\n",
    "        :type key: int\n",
    "        :rtype: int\n",
    "        \"\"\"\n",
    "        if key not in self.cache:\n",
    "            return -1\n",
    "        node = self.cache[key]\n",
    "        self.moveToHead(node)\n",
    "        return node.value\n",
    "\n",
    "    def put(self, key, value):\n",
    "        if key not in self.cache:\n",
    "            # 如果 key 不存在，创建一个新的节点\n",
    "            node = DLinkedNode(key, value)\n",
    "            # 添加进哈希表\n",
    "            self.cache[key] = node\n",
    "            # 添加至双向链表的头部\n",
    "            self.addToHead(node)\n",
    "            self.size += 1\n",
    "            if self.size > self.capacity:\n",
    "                # 如果超出容量，删除双向链表的尾部节点\n",
    "                removed = self.removeTail()\n",
    "                # 删除哈希表中对应的项\n",
    "                self.cache.pop(removed.key)\n",
    "                self.size -= 1\n",
    "        else:\n",
    "            # 如果 key 存在，先通过哈希表定位，再修改 value，并移到头部\n",
    "            node = self.cache[key]\n",
    "            node.value = value\n",
    "            self.moveToHead(node)\n",
    "\n",
    "    def moveToHead(self,node):\n",
    "        self.removeNode(node)\n",
    "        self.addToHead(node)\n",
    "    def addToHead(self, node):\n",
    "        node.prev= self.head # 先保存\n",
    "        node.next = self.head.next\n",
    "\n",
    "        self.head.next.prev = node # 再更新\n",
    "        self.head.next = node\n",
    "    def removeNode(self, node):\n",
    "        node.prev.next = node.next\n",
    "        node.next.prev = node.prev\n",
    "\n",
    "    def removeTail(self, ):\n",
    "        node = self.tail.prev # 先保存\n",
    "        self.removeNode(node)\n",
    "        return node\n",
    "\n",
    "# "
   ]
  },
  {
   "cell_type": "code",
   "execution_count": null,
   "metadata": {
    "colab": {
     "base_uri": "https://localhost:8080/"
    },
    "executionInfo": {
     "elapsed": 485,
     "status": "ok",
     "timestamp": 1670415433321,
     "user": {
      "displayName": "palla lin",
      "userId": "14085275430525630850"
     },
     "user_tz": -60
    },
    "id": "OOINhYPNaBcR",
    "outputId": "a731baa3-4da0-499e-ee97-2e381e8a6dc3"
   },
   "outputs": [
    {
     "name": "stdout",
     "output_type": "stream",
     "text": [
      "3\n"
     ]
    },
    {
     "data": {
      "text/plain": [
       "2"
      ]
     },
     "execution_count": 37,
     "metadata": {},
     "output_type": "execute_result"
    }
   ],
   "source": [
    "from os.path import curdir\n",
    "class ListNode(object):\n",
    "    def __init__(self, val=0, next=None):\n",
    "        self.val = val\n",
    "        self.next = next\n",
    "\n",
    "    def add(self,item=None):\n",
    "      # find \n",
    "      last = self\n",
    "      while last.next is not None:\n",
    "        last = last.next\n",
    "      last.next = ListNode(item)\n",
    "\n",
    "a = [1,2,3]\n",
    "\n",
    "nodes = ListNode(a[0])\n",
    "nodes.add(2)\n",
    "nodes.add(3)\n",
    "nodes.add(4)\n",
    "cur =nodes\n",
    "while cur:\n",
    "  # print(cur.val)\n",
    "  cur = cur.next\n",
    "\n",
    "end_of_first_half(nodes).val"
   ]
  },
  {
   "cell_type": "code",
   "execution_count": null,
   "metadata": {
    "colab": {
     "base_uri": "https://localhost:8080/"
    },
    "executionInfo": {
     "elapsed": 396,
     "status": "ok",
     "timestamp": 1670415197430,
     "user": {
      "displayName": "palla lin",
      "userId": "14085275430525630850"
     },
     "user_tz": -60
    },
    "id": "6Zw4Kh-QfESX",
    "outputId": "3cb45ae0-8cfc-4d48-955f-e811713fe820"
   },
   "outputs": [
    {
     "data": {
      "text/plain": [
       "(2, 3)"
      ]
     },
     "execution_count": 33,
     "metadata": {},
     "output_type": "execute_result"
    }
   ],
   "source": [
    "nodes.next.val, nodes.next.next.val"
   ]
  },
  {
   "cell_type": "markdown",
   "metadata": {
    "id": "FNGlEYaxl5Ry"
   },
   "source": [
    "## tree\n",
    "- 二叉树\n",
    "- 二叉搜索树"
   ]
  },
  {
   "cell_type": "code",
   "execution_count": 30,
   "metadata": {
    "colab": {
     "base_uri": "https://localhost:8080/",
     "height": 134
    },
    "executionInfo": {
     "elapsed": 32,
     "status": "error",
     "timestamp": 1667734031717,
     "user": {
      "displayName": "palla lin",
      "userId": "14085275430525630850"
     },
     "user_tz": -60
    },
    "id": "p4yuYm44kHTE",
    "outputId": "3fd1d980-3780-453e-bc89-11a873ee032f"
   },
   "outputs": [
    {
     "name": "stdout",
     "output_type": "stream",
     "text": [
      "[1]\n",
      "[None, 3]\n",
      "[None, 5]\n"
     ]
    }
   ],
   "source": [
    "# 二叉树 \n",
    "class Node(object):\n",
    "    def __init__(self, val=0, left=None, right=None):\n",
    "        self.val = val\n",
    "        self.left = left\n",
    "        self.right = right\n",
    "    def __str__(self):\n",
    "         return str(self.val)\n",
    "    # def add(self, ):\n",
    "    #     pass\n",
    "    # def delete(self, ):\n",
    "    #     pass\n",
    "    # def get_father(self, node):\n",
    "    #     pass\n",
    "    # def in_order(self,):\n",
    "    #     pass\n",
    "    # def post_order(self,):\n",
    "    #     pass\n",
    "    # def preorder_order(self,):\n",
    "    #     pass\n",
    "    # def level_order(self,):\n",
    "    #     pass\n",
    "    \n",
    "class BinaryTree:\n",
    "    def __init__(self):\n",
    "        self.root = None\n",
    "\n",
    "    def __str__(self,):\n",
    "        return str(self.root)\n",
    "    def add_node(self, val):\n",
    "        new_node = Node(val)\n",
    "        if self.root is None:\n",
    "            self.root = new_node\n",
    "        else:\n",
    "            curr_node = self.root\n",
    "            while True:\n",
    "                if val < curr_node.val:\n",
    "                    if curr_node.left is None:\n",
    "                        curr_node.left = new_node\n",
    "                        break\n",
    "                    else:\n",
    "                        curr_node = curr_node.left\n",
    "                else:\n",
    "                    if curr_node.right is None:\n",
    "                        curr_node.right = new_node\n",
    "                        break\n",
    "                    else:\n",
    "                        curr_node = curr_node.right\n",
    "def level_order(root):\n",
    "    seen = [root]\n",
    "    while seen:\n",
    "        # val = [node.val for node in seen]\n",
    "        # print(val)\n",
    "        seen_temp = []\n",
    "        val = []\n",
    "        for node in seen:\n",
    "            # if node.left or node.right:\n",
    "            if node is None:\n",
    "                val.append(None)\n",
    "            else:\n",
    "                val.append(node.val)\n",
    "                if node.left or node.right:\n",
    "                    seen_temp.append(node.left)\n",
    "                    seen_temp.append(node.right)\n",
    "        seen = seen_temp\n",
    "        print(val)\n",
    "                \n",
    "        \n",
    "        \n",
    "tree = BinaryTree()\n",
    "tree.add_node(1)\n",
    "tree.add_node(3)\n",
    "tree.add_node(5)\n",
    "level_order(tree.root)"
   ]
  },
  {
   "cell_type": "code",
   "execution_count": 20,
   "metadata": {},
   "outputs": [
    {
     "data": {
      "text/plain": [
       "3"
      ]
     },
     "execution_count": 20,
     "metadata": {},
     "output_type": "execute_result"
    }
   ],
   "source": [
    "# tree.root.left.val\n",
    "tree.root.right.val"
   ]
  },
  {
   "cell_type": "code",
   "execution_count": 33,
   "metadata": {},
   "outputs": [
    {
     "ename": "ExecutableNotFound",
     "evalue": "failed to execute WindowsPath('dot'), make sure the Graphviz executables are on your systems' PATH",
     "output_type": "error",
     "traceback": [
      "\u001b[1;31m--------------------------------------------\u001b[0m",
      "\u001b[1;31mFileNotFoundError\u001b[0mTraceback (most recent call last)",
      "\u001b[1;32md:\\codingapps\\miniconda3\\lib\\site-packages\\graphviz\\backend\\execute.py\u001b[0m in \u001b[0;36mrun_check\u001b[1;34m(cmd, input_lines, encoding, quiet, **kwargs)\u001b[0m\n\u001b[0;32m     78\u001b[0m                 \u001b[0mkwargs\u001b[0m\u001b[1;33m[\u001b[0m\u001b[1;34m'stdout'\u001b[0m\u001b[1;33m]\u001b[0m \u001b[1;33m=\u001b[0m \u001b[0mkwargs\u001b[0m\u001b[1;33m[\u001b[0m\u001b[1;34m'stderr'\u001b[0m\u001b[1;33m]\u001b[0m \u001b[1;33m=\u001b[0m \u001b[0msubprocess\u001b[0m\u001b[1;33m.\u001b[0m\u001b[0mPIPE\u001b[0m\u001b[1;33m\u001b[0m\u001b[1;33m\u001b[0m\u001b[0m\n\u001b[1;32m---> 79\u001b[1;33m             \u001b[0mproc\u001b[0m \u001b[1;33m=\u001b[0m \u001b[0m_run_input_lines\u001b[0m\u001b[1;33m(\u001b[0m\u001b[0mcmd\u001b[0m\u001b[1;33m,\u001b[0m \u001b[0minput_lines\u001b[0m\u001b[1;33m,\u001b[0m \u001b[0mkwargs\u001b[0m\u001b[1;33m=\u001b[0m\u001b[0mkwargs\u001b[0m\u001b[1;33m)\u001b[0m\u001b[1;33m\u001b[0m\u001b[1;33m\u001b[0m\u001b[0m\n\u001b[0m\u001b[0;32m     80\u001b[0m         \u001b[1;32melse\u001b[0m\u001b[1;33m:\u001b[0m\u001b[1;33m\u001b[0m\u001b[1;33m\u001b[0m\u001b[0m\n",
      "\u001b[1;32md:\\codingapps\\miniconda3\\lib\\site-packages\\graphviz\\backend\\execute.py\u001b[0m in \u001b[0;36m_run_input_lines\u001b[1;34m(cmd, input_lines, kwargs)\u001b[0m\n\u001b[0;32m     98\u001b[0m \u001b[1;32mdef\u001b[0m \u001b[0m_run_input_lines\u001b[0m\u001b[1;33m(\u001b[0m\u001b[0mcmd\u001b[0m\u001b[1;33m,\u001b[0m \u001b[0minput_lines\u001b[0m\u001b[1;33m,\u001b[0m \u001b[1;33m*\u001b[0m\u001b[1;33m,\u001b[0m \u001b[0mkwargs\u001b[0m\u001b[1;33m)\u001b[0m\u001b[1;33m:\u001b[0m\u001b[1;33m\u001b[0m\u001b[1;33m\u001b[0m\u001b[0m\n\u001b[1;32m---> 99\u001b[1;33m     \u001b[0mpopen\u001b[0m \u001b[1;33m=\u001b[0m \u001b[0msubprocess\u001b[0m\u001b[1;33m.\u001b[0m\u001b[0mPopen\u001b[0m\u001b[1;33m(\u001b[0m\u001b[0mcmd\u001b[0m\u001b[1;33m,\u001b[0m \u001b[0mstdin\u001b[0m\u001b[1;33m=\u001b[0m\u001b[0msubprocess\u001b[0m\u001b[1;33m.\u001b[0m\u001b[0mPIPE\u001b[0m\u001b[1;33m,\u001b[0m \u001b[1;33m**\u001b[0m\u001b[0mkwargs\u001b[0m\u001b[1;33m)\u001b[0m\u001b[1;33m\u001b[0m\u001b[1;33m\u001b[0m\u001b[0m\n\u001b[0m\u001b[0;32m    100\u001b[0m \u001b[1;33m\u001b[0m\u001b[0m\n",
      "\u001b[1;32md:\\codingapps\\miniconda3\\lib\\subprocess.py\u001b[0m in \u001b[0;36m__init__\u001b[1;34m(self, args, bufsize, executable, stdin, stdout, stderr, preexec_fn, close_fds, shell, cwd, env, universal_newlines, startupinfo, creationflags, restore_signals, start_new_session, pass_fds, user, group, extra_groups, encoding, errors, text, umask)\u001b[0m\n\u001b[0;32m    950\u001b[0m \u001b[1;33m\u001b[0m\u001b[0m\n\u001b[1;32m--> 951\u001b[1;33m             self._execute_child(args, executable, preexec_fn, close_fds,\n\u001b[0m\u001b[0;32m    952\u001b[0m                                 \u001b[0mpass_fds\u001b[0m\u001b[1;33m,\u001b[0m \u001b[0mcwd\u001b[0m\u001b[1;33m,\u001b[0m \u001b[0menv\u001b[0m\u001b[1;33m,\u001b[0m\u001b[1;33m\u001b[0m\u001b[1;33m\u001b[0m\u001b[0m\n",
      "\u001b[1;32md:\\codingapps\\miniconda3\\lib\\subprocess.py\u001b[0m in \u001b[0;36m_execute_child\u001b[1;34m(self, args, executable, preexec_fn, close_fds, pass_fds, cwd, env, startupinfo, creationflags, shell, p2cread, p2cwrite, c2pread, c2pwrite, errread, errwrite, unused_restore_signals, unused_gid, unused_gids, unused_uid, unused_umask, unused_start_new_session)\u001b[0m\n\u001b[0;32m   1419\u001b[0m             \u001b[1;32mtry\u001b[0m\u001b[1;33m:\u001b[0m\u001b[1;33m\u001b[0m\u001b[1;33m\u001b[0m\u001b[0m\n\u001b[1;32m-> 1420\u001b[1;33m                 hp, ht, pid, tid = _winapi.CreateProcess(executable, args,\n\u001b[0m\u001b[0;32m   1421\u001b[0m                                          \u001b[1;31m# no special security\u001b[0m\u001b[1;33m\u001b[0m\u001b[1;33m\u001b[0m\u001b[1;33m\u001b[0m\u001b[0m\n",
      "\u001b[1;31mFileNotFoundError\u001b[0m: [WinError 2] 系统找不到指定的文件。",
      "\nThe above exception was the direct cause of the following exception:\n",
      "\u001b[1;31mExecutableNotFound\u001b[0mTraceback (most recent call last)",
      "\u001b[1;32md:\\codingapps\\miniconda3\\lib\\site-packages\\IPython\\core\\formatters.py\u001b[0m in \u001b[0;36m__call__\u001b[1;34m(self, obj, include, exclude)\u001b[0m\n\u001b[0;32m    968\u001b[0m \u001b[1;33m\u001b[0m\u001b[0m\n\u001b[0;32m    969\u001b[0m             \u001b[1;32mif\u001b[0m \u001b[0mmethod\u001b[0m \u001b[1;32mis\u001b[0m \u001b[1;32mnot\u001b[0m \u001b[1;32mNone\u001b[0m\u001b[1;33m:\u001b[0m\u001b[1;33m\u001b[0m\u001b[1;33m\u001b[0m\u001b[0m\n\u001b[1;32m--> 970\u001b[1;33m                 \u001b[1;32mreturn\u001b[0m \u001b[0mmethod\u001b[0m\u001b[1;33m(\u001b[0m\u001b[0minclude\u001b[0m\u001b[1;33m=\u001b[0m\u001b[0minclude\u001b[0m\u001b[1;33m,\u001b[0m \u001b[0mexclude\u001b[0m\u001b[1;33m=\u001b[0m\u001b[0mexclude\u001b[0m\u001b[1;33m)\u001b[0m\u001b[1;33m\u001b[0m\u001b[1;33m\u001b[0m\u001b[0m\n\u001b[0m\u001b[0;32m    971\u001b[0m             \u001b[1;32mreturn\u001b[0m \u001b[1;32mNone\u001b[0m\u001b[1;33m\u001b[0m\u001b[1;33m\u001b[0m\u001b[0m\n\u001b[0;32m    972\u001b[0m         \u001b[1;32melse\u001b[0m\u001b[1;33m:\u001b[0m\u001b[1;33m\u001b[0m\u001b[1;33m\u001b[0m\u001b[0m\n",
      "\u001b[1;32md:\\codingapps\\miniconda3\\lib\\site-packages\\graphviz\\jupyter_integration.py\u001b[0m in \u001b[0;36m_repr_mimebundle_\u001b[1;34m(self, include, exclude, **_)\u001b[0m\n\u001b[0;32m     96\u001b[0m         \u001b[0minclude\u001b[0m \u001b[1;33m=\u001b[0m \u001b[0mset\u001b[0m\u001b[1;33m(\u001b[0m\u001b[0minclude\u001b[0m\u001b[1;33m)\u001b[0m \u001b[1;32mif\u001b[0m \u001b[0minclude\u001b[0m \u001b[1;32mis\u001b[0m \u001b[1;32mnot\u001b[0m \u001b[1;32mNone\u001b[0m \u001b[1;32melse\u001b[0m \u001b[1;33m{\u001b[0m\u001b[0mself\u001b[0m\u001b[1;33m.\u001b[0m\u001b[0m_jupyter_mimetype\u001b[0m\u001b[1;33m}\u001b[0m\u001b[1;33m\u001b[0m\u001b[1;33m\u001b[0m\u001b[0m\n\u001b[0;32m     97\u001b[0m         \u001b[0minclude\u001b[0m \u001b[1;33m-=\u001b[0m \u001b[0mset\u001b[0m\u001b[1;33m(\u001b[0m\u001b[0mexclude\u001b[0m \u001b[1;32mor\u001b[0m \u001b[1;33m[\u001b[0m\u001b[1;33m]\u001b[0m\u001b[1;33m)\u001b[0m\u001b[1;33m\u001b[0m\u001b[1;33m\u001b[0m\u001b[0m\n\u001b[1;32m---> 98\u001b[1;33m         return {mimetype: getattr(self, method_name)()\n\u001b[0m\u001b[0;32m     99\u001b[0m                 \u001b[1;32mfor\u001b[0m \u001b[0mmimetype\u001b[0m\u001b[1;33m,\u001b[0m \u001b[0mmethod_name\u001b[0m \u001b[1;32min\u001b[0m \u001b[0mMIME_TYPES\u001b[0m\u001b[1;33m.\u001b[0m\u001b[0mitems\u001b[0m\u001b[1;33m(\u001b[0m\u001b[1;33m)\u001b[0m\u001b[1;33m\u001b[0m\u001b[1;33m\u001b[0m\u001b[0m\n\u001b[0;32m    100\u001b[0m                 if mimetype in include}\n",
      "\u001b[1;32md:\\codingapps\\miniconda3\\lib\\site-packages\\graphviz\\jupyter_integration.py\u001b[0m in \u001b[0;36m<dictcomp>\u001b[1;34m(.0)\u001b[0m\n\u001b[0;32m     96\u001b[0m         \u001b[0minclude\u001b[0m \u001b[1;33m=\u001b[0m \u001b[0mset\u001b[0m\u001b[1;33m(\u001b[0m\u001b[0minclude\u001b[0m\u001b[1;33m)\u001b[0m \u001b[1;32mif\u001b[0m \u001b[0minclude\u001b[0m \u001b[1;32mis\u001b[0m \u001b[1;32mnot\u001b[0m \u001b[1;32mNone\u001b[0m \u001b[1;32melse\u001b[0m \u001b[1;33m{\u001b[0m\u001b[0mself\u001b[0m\u001b[1;33m.\u001b[0m\u001b[0m_jupyter_mimetype\u001b[0m\u001b[1;33m}\u001b[0m\u001b[1;33m\u001b[0m\u001b[1;33m\u001b[0m\u001b[0m\n\u001b[0;32m     97\u001b[0m         \u001b[0minclude\u001b[0m \u001b[1;33m-=\u001b[0m \u001b[0mset\u001b[0m\u001b[1;33m(\u001b[0m\u001b[0mexclude\u001b[0m \u001b[1;32mor\u001b[0m \u001b[1;33m[\u001b[0m\u001b[1;33m]\u001b[0m\u001b[1;33m)\u001b[0m\u001b[1;33m\u001b[0m\u001b[1;33m\u001b[0m\u001b[0m\n\u001b[1;32m---> 98\u001b[1;33m         return {mimetype: getattr(self, method_name)()\n\u001b[0m\u001b[0;32m     99\u001b[0m                 \u001b[1;32mfor\u001b[0m \u001b[0mmimetype\u001b[0m\u001b[1;33m,\u001b[0m \u001b[0mmethod_name\u001b[0m \u001b[1;32min\u001b[0m \u001b[0mMIME_TYPES\u001b[0m\u001b[1;33m.\u001b[0m\u001b[0mitems\u001b[0m\u001b[1;33m(\u001b[0m\u001b[1;33m)\u001b[0m\u001b[1;33m\u001b[0m\u001b[1;33m\u001b[0m\u001b[0m\n\u001b[0;32m    100\u001b[0m                 if mimetype in include}\n",
      "\u001b[1;32md:\\codingapps\\miniconda3\\lib\\site-packages\\graphviz\\jupyter_integration.py\u001b[0m in \u001b[0;36m_repr_image_svg_xml\u001b[1;34m(self)\u001b[0m\n\u001b[0;32m    110\u001b[0m     \u001b[1;32mdef\u001b[0m \u001b[0m_repr_image_svg_xml\u001b[0m\u001b[1;33m(\u001b[0m\u001b[0mself\u001b[0m\u001b[1;33m)\u001b[0m \u001b[1;33m->\u001b[0m \u001b[0mstr\u001b[0m\u001b[1;33m:\u001b[0m\u001b[1;33m\u001b[0m\u001b[1;33m\u001b[0m\u001b[0m\n\u001b[0;32m    111\u001b[0m         \u001b[1;34m\"\"\"Return the rendered graph as SVG string.\"\"\"\u001b[0m\u001b[1;33m\u001b[0m\u001b[1;33m\u001b[0m\u001b[0m\n\u001b[1;32m--> 112\u001b[1;33m         \u001b[1;32mreturn\u001b[0m \u001b[0mself\u001b[0m\u001b[1;33m.\u001b[0m\u001b[0mpipe\u001b[0m\u001b[1;33m(\u001b[0m\u001b[0mformat\u001b[0m\u001b[1;33m=\u001b[0m\u001b[1;34m'svg'\u001b[0m\u001b[1;33m,\u001b[0m \u001b[0mencoding\u001b[0m\u001b[1;33m=\u001b[0m\u001b[0mSVG_ENCODING\u001b[0m\u001b[1;33m)\u001b[0m\u001b[1;33m\u001b[0m\u001b[1;33m\u001b[0m\u001b[0m\n\u001b[0m",
      "\u001b[1;32md:\\codingapps\\miniconda3\\lib\\site-packages\\graphviz\\piping.py\u001b[0m in \u001b[0;36mpipe\u001b[1;34m(self, format, renderer, formatter, neato_no_op, quiet, engine, encoding)\u001b[0m\n\u001b[0;32m    102\u001b[0m             \u001b[1;34m'<?xml version='\u001b[0m\u001b[1;33m\u001b[0m\u001b[1;33m\u001b[0m\u001b[0m\n\u001b[0;32m    103\u001b[0m         \"\"\"\n\u001b[1;32m--> 104\u001b[1;33m         return self._pipe_legacy(format,\n\u001b[0m\u001b[0;32m    105\u001b[0m                                  \u001b[0mrenderer\u001b[0m\u001b[1;33m=\u001b[0m\u001b[0mrenderer\u001b[0m\u001b[1;33m,\u001b[0m\u001b[1;33m\u001b[0m\u001b[1;33m\u001b[0m\u001b[0m\n\u001b[0;32m    106\u001b[0m                                  \u001b[0mformatter\u001b[0m\u001b[1;33m=\u001b[0m\u001b[0mformatter\u001b[0m\u001b[1;33m,\u001b[0m\u001b[1;33m\u001b[0m\u001b[1;33m\u001b[0m\u001b[0m\n",
      "\u001b[1;32md:\\codingapps\\miniconda3\\lib\\site-packages\\graphviz\\_tools.py\u001b[0m in \u001b[0;36mwrapper\u001b[1;34m(*args, **kwargs)\u001b[0m\n\u001b[0;32m    169\u001b[0m                               category=category)\n\u001b[0;32m    170\u001b[0m \u001b[1;33m\u001b[0m\u001b[0m\n\u001b[1;32m--> 171\u001b[1;33m             \u001b[1;32mreturn\u001b[0m \u001b[0mfunc\u001b[0m\u001b[1;33m(\u001b[0m\u001b[1;33m*\u001b[0m\u001b[0margs\u001b[0m\u001b[1;33m,\u001b[0m \u001b[1;33m**\u001b[0m\u001b[0mkwargs\u001b[0m\u001b[1;33m)\u001b[0m\u001b[1;33m\u001b[0m\u001b[1;33m\u001b[0m\u001b[0m\n\u001b[0m\u001b[0;32m    172\u001b[0m \u001b[1;33m\u001b[0m\u001b[0m\n\u001b[0;32m    173\u001b[0m         \u001b[1;32mreturn\u001b[0m \u001b[0mwrapper\u001b[0m\u001b[1;33m\u001b[0m\u001b[1;33m\u001b[0m\u001b[0m\n",
      "\u001b[1;32md:\\codingapps\\miniconda3\\lib\\site-packages\\graphviz\\piping.py\u001b[0m in \u001b[0;36m_pipe_legacy\u001b[1;34m(self, format, renderer, formatter, neato_no_op, quiet, engine, encoding)\u001b[0m\n\u001b[0;32m    119\u001b[0m                      \u001b[0mengine\u001b[0m\u001b[1;33m:\u001b[0m \u001b[0mtyping\u001b[0m\u001b[1;33m.\u001b[0m\u001b[0mOptional\u001b[0m\u001b[1;33m[\u001b[0m\u001b[0mstr\u001b[0m\u001b[1;33m]\u001b[0m \u001b[1;33m=\u001b[0m \u001b[1;32mNone\u001b[0m\u001b[1;33m,\u001b[0m\u001b[1;33m\u001b[0m\u001b[1;33m\u001b[0m\u001b[0m\n\u001b[0;32m    120\u001b[0m                      encoding: typing.Optional[str] = None) -> typing.Union[bytes, str]:\n\u001b[1;32m--> 121\u001b[1;33m         return self._pipe_future(format,\n\u001b[0m\u001b[0;32m    122\u001b[0m                                  \u001b[0mrenderer\u001b[0m\u001b[1;33m=\u001b[0m\u001b[0mrenderer\u001b[0m\u001b[1;33m,\u001b[0m\u001b[1;33m\u001b[0m\u001b[1;33m\u001b[0m\u001b[0m\n\u001b[0;32m    123\u001b[0m                                  \u001b[0mformatter\u001b[0m\u001b[1;33m=\u001b[0m\u001b[0mformatter\u001b[0m\u001b[1;33m,\u001b[0m\u001b[1;33m\u001b[0m\u001b[1;33m\u001b[0m\u001b[0m\n",
      "\u001b[1;32md:\\codingapps\\miniconda3\\lib\\site-packages\\graphviz\\piping.py\u001b[0m in \u001b[0;36m_pipe_future\u001b[1;34m(self, format, renderer, formatter, neato_no_op, quiet, engine, encoding)\u001b[0m\n\u001b[0;32m    147\u001b[0m             \u001b[1;32mif\u001b[0m \u001b[0mcodecs\u001b[0m\u001b[1;33m.\u001b[0m\u001b[0mlookup\u001b[0m\u001b[1;33m(\u001b[0m\u001b[0mencoding\u001b[0m\u001b[1;33m)\u001b[0m \u001b[1;32mis\u001b[0m \u001b[0mcodecs\u001b[0m\u001b[1;33m.\u001b[0m\u001b[0mlookup\u001b[0m\u001b[1;33m(\u001b[0m\u001b[0mself\u001b[0m\u001b[1;33m.\u001b[0m\u001b[0mencoding\u001b[0m\u001b[1;33m)\u001b[0m\u001b[1;33m:\u001b[0m\u001b[1;33m\u001b[0m\u001b[1;33m\u001b[0m\u001b[0m\n\u001b[0;32m    148\u001b[0m                 \u001b[1;31m# common case: both stdin and stdout need the same encoding\u001b[0m\u001b[1;33m\u001b[0m\u001b[1;33m\u001b[0m\u001b[1;33m\u001b[0m\u001b[0m\n\u001b[1;32m--> 149\u001b[1;33m                 \u001b[1;32mreturn\u001b[0m \u001b[0mself\u001b[0m\u001b[1;33m.\u001b[0m\u001b[0m_pipe_lines_string\u001b[0m\u001b[1;33m(\u001b[0m\u001b[1;33m*\u001b[0m\u001b[0margs\u001b[0m\u001b[1;33m,\u001b[0m \u001b[0mencoding\u001b[0m\u001b[1;33m=\u001b[0m\u001b[0mencoding\u001b[0m\u001b[1;33m,\u001b[0m \u001b[1;33m**\u001b[0m\u001b[0mkwargs\u001b[0m\u001b[1;33m)\u001b[0m\u001b[1;33m\u001b[0m\u001b[1;33m\u001b[0m\u001b[0m\n\u001b[0m\u001b[0;32m    150\u001b[0m             \u001b[1;32mtry\u001b[0m\u001b[1;33m:\u001b[0m\u001b[1;33m\u001b[0m\u001b[1;33m\u001b[0m\u001b[0m\n\u001b[0;32m    151\u001b[0m                 \u001b[0mraw\u001b[0m \u001b[1;33m=\u001b[0m \u001b[0mself\u001b[0m\u001b[1;33m.\u001b[0m\u001b[0m_pipe_lines\u001b[0m\u001b[1;33m(\u001b[0m\u001b[1;33m*\u001b[0m\u001b[0margs\u001b[0m\u001b[1;33m,\u001b[0m \u001b[0minput_encoding\u001b[0m\u001b[1;33m=\u001b[0m\u001b[0mself\u001b[0m\u001b[1;33m.\u001b[0m\u001b[0mencoding\u001b[0m\u001b[1;33m,\u001b[0m \u001b[1;33m**\u001b[0m\u001b[0mkwargs\u001b[0m\u001b[1;33m)\u001b[0m\u001b[1;33m\u001b[0m\u001b[1;33m\u001b[0m\u001b[0m\n",
      "\u001b[1;32md:\\codingapps\\miniconda3\\lib\\site-packages\\graphviz\\backend\\piping.py\u001b[0m in \u001b[0;36mpipe_lines_string\u001b[1;34m(engine, format, input_lines, encoding, renderer, formatter, neato_no_op, quiet)\u001b[0m\n\u001b[0;32m    210\u001b[0m     \u001b[0mkwargs\u001b[0m \u001b[1;33m=\u001b[0m \u001b[1;33m{\u001b[0m\u001b[1;34m'input_lines'\u001b[0m\u001b[1;33m:\u001b[0m \u001b[0minput_lines\u001b[0m\u001b[1;33m,\u001b[0m \u001b[1;34m'encoding'\u001b[0m\u001b[1;33m:\u001b[0m \u001b[0mencoding\u001b[0m\u001b[1;33m}\u001b[0m\u001b[1;33m\u001b[0m\u001b[1;33m\u001b[0m\u001b[0m\n\u001b[0;32m    211\u001b[0m \u001b[1;33m\u001b[0m\u001b[0m\n\u001b[1;32m--> 212\u001b[1;33m     \u001b[0mproc\u001b[0m \u001b[1;33m=\u001b[0m \u001b[0mexecute\u001b[0m\u001b[1;33m.\u001b[0m\u001b[0mrun_check\u001b[0m\u001b[1;33m(\u001b[0m\u001b[0mcmd\u001b[0m\u001b[1;33m,\u001b[0m \u001b[0mcapture_output\u001b[0m\u001b[1;33m=\u001b[0m\u001b[1;32mTrue\u001b[0m\u001b[1;33m,\u001b[0m \u001b[0mquiet\u001b[0m\u001b[1;33m=\u001b[0m\u001b[0mquiet\u001b[0m\u001b[1;33m,\u001b[0m \u001b[1;33m**\u001b[0m\u001b[0mkwargs\u001b[0m\u001b[1;33m)\u001b[0m\u001b[1;33m\u001b[0m\u001b[1;33m\u001b[0m\u001b[0m\n\u001b[0m\u001b[0;32m    213\u001b[0m     \u001b[1;32mreturn\u001b[0m \u001b[0mproc\u001b[0m\u001b[1;33m.\u001b[0m\u001b[0mstdout\u001b[0m\u001b[1;33m\u001b[0m\u001b[1;33m\u001b[0m\u001b[0m\n",
      "\u001b[1;32md:\\codingapps\\miniconda3\\lib\\site-packages\\graphviz\\backend\\execute.py\u001b[0m in \u001b[0;36mrun_check\u001b[1;34m(cmd, input_lines, encoding, quiet, **kwargs)\u001b[0m\n\u001b[0;32m     82\u001b[0m     \u001b[1;32mexcept\u001b[0m \u001b[0mOSError\u001b[0m \u001b[1;32mas\u001b[0m \u001b[0me\u001b[0m\u001b[1;33m:\u001b[0m\u001b[1;33m\u001b[0m\u001b[1;33m\u001b[0m\u001b[0m\n\u001b[0;32m     83\u001b[0m         \u001b[1;32mif\u001b[0m \u001b[0me\u001b[0m\u001b[1;33m.\u001b[0m\u001b[0merrno\u001b[0m \u001b[1;33m==\u001b[0m \u001b[0merrno\u001b[0m\u001b[1;33m.\u001b[0m\u001b[0mENOENT\u001b[0m\u001b[1;33m:\u001b[0m\u001b[1;33m\u001b[0m\u001b[1;33m\u001b[0m\u001b[0m\n\u001b[1;32m---> 84\u001b[1;33m             \u001b[1;32mraise\u001b[0m \u001b[0mExecutableNotFound\u001b[0m\u001b[1;33m(\u001b[0m\u001b[0mcmd\u001b[0m\u001b[1;33m)\u001b[0m \u001b[1;32mfrom\u001b[0m \u001b[0me\u001b[0m\u001b[1;33m\u001b[0m\u001b[1;33m\u001b[0m\u001b[0m\n\u001b[0m\u001b[0;32m     85\u001b[0m         \u001b[1;32mraise\u001b[0m\u001b[1;33m\u001b[0m\u001b[1;33m\u001b[0m\u001b[0m\n\u001b[0;32m     86\u001b[0m \u001b[1;33m\u001b[0m\u001b[0m\n",
      "\u001b[1;31mExecutableNotFound\u001b[0m: failed to execute WindowsPath('dot'), make sure the Graphviz executables are on your systems' PATH"
     ]
    },
    {
     "data": {
      "text/plain": [
       "<graphviz.graphs.Digraph at 0x1a8588ab190>"
      ]
     },
     "execution_count": 33,
     "metadata": {},
     "output_type": "execute_result"
    }
   ],
   "source": [
    "import graphviz\n",
    "def plot_tree(root):\n",
    "    graph = graphviz.Digraph()\n",
    "    def add_node(node):\n",
    "        if node:\n",
    "            graph.node(str(node.val))\n",
    "            if node.left:\n",
    "                graph.edge(str(node.val), str(node.left.val))\n",
    "            if node.right:\n",
    "                graph.edge(str(node.val), str(node.right.val))\n",
    "            add_node(node.left)\n",
    "            add_node(node.right)\n",
    "    add_node(root)\n",
    "    return graph\n",
    "plot_tree(root)\n"
   ]
  },
  {
   "cell_type": "markdown",
   "metadata": {},
   "source": [
    "# leetcode"
   ]
  },
  {
   "cell_type": "code",
   "execution_count": 8,
   "metadata": {},
   "outputs": [
    {
     "data": {
      "text/plain": [
       "[[-1, -1, 2], [-1, 0, 1]]"
      ]
     },
     "execution_count": 8,
     "metadata": {},
     "output_type": "execute_result"
    }
   ],
   "source": [
    "# 3. 无重复字符的最长子串: 滑动窗口加哈希\n",
    "# 2sum: 使用哈希\n",
    "# 3sum: 先排序去除重复，再使用双指针\n",
    "15. 3Sum\n",
    "  排序的好处，往左值增大，往右值降低\n",
    "1. Two Sum: 两个for, 哈希表记录已看过的信息,\n",
    "\n"
   ]
  },
  {
   "cell_type": "code",
   "execution_count": 2,
   "metadata": {},
   "outputs": [],
   "source": [
    "## 回文\n",
    "### determine whether it is palindrome\n",
    "s = 'baeab'\n",
    "left = 0\n",
    "right = len(s)-1\n",
    "while left <= right:\n",
    "  if s[left] != s[right]:\n",
    "    print('NOt')\n",
    "    break\n",
    "  left += 1\n",
    "  right -= 1"
   ]
  },
  {
   "cell_type": "code",
   "execution_count": 1,
   "metadata": {},
   "outputs": [
    {
     "data": {
      "text/plain": [
       "'\\n- topk 问题\\n-- 215. 数组中的第K个最大元素\\n---- 类排序，堆排序\\n-- 230. 二叉搜索树中第K小的元素\\n---- 中序遍历\\n'"
      ]
     },
     "execution_count": 1,
     "metadata": {},
     "output_type": "execute_result"
    }
   ],
   "source": [
    "\"\"\"\n",
    "- topk 问题\n",
    "-- 215. 数组中的第K个最大元素\n",
    "---- 类排序，堆排序\n",
    "-- 230. 二叉搜索树中第K小的元素\n",
    "---- 中序遍历\n",
    "\"\"\"\n"
   ]
  },
  {
   "cell_type": "code",
   "execution_count": null,
   "metadata": {},
   "outputs": [],
   "source": []
  },
  {
   "cell_type": "markdown",
   "metadata": {},
   "source": [
    "\n",
    "- topk 问题\n",
    "    - 215. 数组中的第K个最大元素\n",
    "        - 类排序，堆排序\n",
    "    - 230. 二叉搜索树中第K小的元素\n",
    "        - 中序遍历\n"
   ]
  },
  {
   "cell_type": "markdown",
   "metadata": {},
   "source": []
  }
 ],
 "metadata": {
  "colab": {
   "authorship_tag": "ABX9TyNXaKJYCozvi9CRe60VfVFw",
   "provenance": [],
   "toc_visible": true
  },
  "kernelspec": {
   "display_name": "Python 3 (ipykernel)",
   "language": "python",
   "name": "python3"
  },
  "language_info": {
   "codemirror_mode": {
    "name": "ipython",
    "version": 3
   },
   "file_extension": ".py",
   "mimetype": "text/x-python",
   "name": "python",
   "nbconvert_exporter": "python",
   "pygments_lexer": "ipython3",
   "version": "3.9.5"
  },
  "vscode": {
   "interpreter": {
    "hash": "3ad933181bd8a04b432d3370b9dc3b0662ad032c4dfaa4e4f1596c548f763858"
   }
  }
 },
 "nbformat": 4,
 "nbformat_minor": 4
}
