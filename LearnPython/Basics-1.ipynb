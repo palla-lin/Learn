{
 "cells": [
  {
   "cell_type": "markdown",
   "id": "c9c3256c-777c-43fe-ba69-4b86d4c95a63",
   "metadata": {},
   "source": [
    "# Basics-1\n",
    "- mainly about data types and their operations.\n",
    "- Not a full guide"
   ]
  },
  {
   "cell_type": "markdown",
   "id": "05f71529-e7eb-40fe-af19-5c697cad49eb",
   "metadata": {},
   "source": [
    "## Data type\n",
    "- number: int, float, bool, complex\n",
    "- string\n",
    "- tuple\n",
    "- list\n",
    "- set\n",
    "- dictionary\n",
    "\n",
    "**Whether id changes:**\n",
    "- mutable: number, string, tuple\n",
    "- immutable: list, dictionary set\n",
    "\n",
    "**Whether hashable:**\n",
    "- mutable objects are hashable. (number, string, tuple) \n",
    "- a hashable object must implement \n",
    "  - \\_\\Whether hashable_eq\\_\\_()\n",
    "  - \\_\\_cmp\\_\\_()\n",
    "  - \\_\\_hash\\_\\_()\n",
    "\n",
    "**Sequence object:** can be indexed \n",
    "- str\n",
    "- list \n",
    "- tuple"
   ]
  },
  {
   "cell_type": "markdown",
   "id": "7b68060d-f5ad-45ef-8b52-c42f66c021cf",
   "metadata": {},
   "source": [
    "## Dict"
   ]
  },
  {
   "cell_type": "code",
   "execution_count": 62,
   "id": "cb73125e-0982-4c4f-81ce-126de8c7e2fe",
   "metadata": {},
   "outputs": [],
   "source": [
    "# create\n",
    "a = {'b':1, 'c':2} \n",
    "a1 = dict([('d',1), ('f',2)])\n",
    "# get \n",
    "a.items()\n",
    "a.keys()\n",
    "a.values()\n",
    "a.get(key, default)\n",
    "# update\n",
    "a.update(a1)\n",
    "# delete\n",
    "del a[key]\n",
    "a.pop()\n",
    "a.clear()\n"
   ]
  },
  {
   "cell_type": "markdown",
   "id": "eab98b3e-91ac-491c-88e0-929e878e1c07",
   "metadata": {},
   "source": [
    "## Set\n",
    "remove repetitions"
   ]
  },
  {
   "cell_type": "code",
   "execution_count": 77,
   "id": "77ccaa39-531e-4e70-a99c-b827197f0234",
   "metadata": {},
   "outputs": [
    {
     "name": "stdout",
     "output_type": "stream",
     "text": [
      "{'a', 'b'}\n"
     ]
    }
   ],
   "source": [
    "a = set()\n",
    "a.add('a')\n",
    "a.update(['a', 'b'])\n",
    "print(a)"
   ]
  },
  {
   "cell_type": "code",
   "execution_count": 78,
   "id": "a8f978fa-0de3-4258-8fe7-c06860eb31d7",
   "metadata": {},
   "outputs": [
    {
     "data": {
      "text/plain": [
       "{'b'}"
      ]
     },
     "execution_count": 78,
     "metadata": {},
     "output_type": "execute_result"
    }
   ],
   "source": [
    "a.remove('a') # report error if key is not in set\n",
    "a.discard('f') # no error if key is not in set\n",
    "a.pop()\n",
    "a.clear()\n"
   ]
  },
  {
   "cell_type": "markdown",
   "id": "10d1099d-24b9-4b4e-a8c0-d0e8b5a0fe1a",
   "metadata": {},
   "source": [
    "## list"
   ]
  },
  {
   "cell_type": "code",
   "execution_count": null,
   "id": "db6c9ec1-887d-4868-90ff-6bb84867eeda",
   "metadata": {},
   "outputs": [],
   "source": [
    "a = ['a', 'b', 'c', 'd']\n",
    "\n",
    "# update\n",
    "a.append(object)\n",
    "a.extend(list)\n",
    "a = a+[1,2]\n",
    "a.insert(index, object)\n",
    "# delete\n",
    "a.remove('b')\n",
    "a.pop()\n",
    "del a[0]\n",
    "a.clear()\n",
    "# other\n",
    "a.sort()\n",
    "a.reverse()\n",
    "a.count('c')\n",
    "a.index('b')"
   ]
  },
  {
   "cell_type": "markdown",
   "id": "045146e6-de6b-4a97-9a33-cca7568fb783",
   "metadata": {},
   "source": [
    "## tuple"
   ]
  },
  {
   "cell_type": "code",
   "execution_count": 87,
   "id": "2785a4ee-771d-47eb-bdd5-baa5371894fe",
   "metadata": {},
   "outputs": [
    {
     "data": {
      "text/plain": [
       "(1, 0)"
      ]
     },
     "execution_count": 87,
     "metadata": {},
     "output_type": "execute_result"
    }
   ],
   "source": [
    "# single element, need a **comma**\n",
    "a = ('b', )\n",
    "a.count('b'),a.index('b')"
   ]
  },
  {
   "cell_type": "markdown",
   "id": "46dc71db-d274-40bc-a9d6-f0c1768f7759",
   "metadata": {},
   "source": [
    "## String \n",
    "\n",
    "doc: \"\"\"abcd\"\"\"\n",
    "u-string: u'abcd'\n",
    "r-string: r'abcd'\n",
    "f-string: f'abcd'\n",
    "\n",
    "\n"
   ]
  },
  {
   "cell_type": "markdown",
   "id": "5451e231-e7a7-4fbd-9c30-7baa66f34b05",
   "metadata": {},
   "source": [
    "### Format"
   ]
  },
  {
   "cell_type": "code",
   "execution_count": 89,
   "id": "6223ec24-fa8f-4e6d-8167-ece8a035cf85",
   "metadata": {},
   "outputs": [
    {
     "data": {
      "text/plain": [
       "(86, 'score:86', 'score: 86', 'score: 86')"
      ]
     },
     "execution_count": 89,
     "metadata": {},
     "output_type": "execute_result"
    }
   ],
   "source": [
    "\n",
    "# Now, simply use f string\n",
    "a=86 \n",
    "b=f'score: {a}'\n",
    "c='score: %s'%(a)\n",
    "d='score: {}'.format(a)\n",
    "a,b,c,d"
   ]
  },
  {
   "cell_type": "markdown",
   "id": "a218455e-8c00-4060-9a1c-94c98e301e3e",
   "metadata": {},
   "source": [
    "### built-in function"
   ]
  },
  {
   "cell_type": "code",
   "execution_count": 95,
   "id": "74cf3d5b-ae1a-4d25-a2b6-490a52b7712f",
   "metadata": {},
   "outputs": [],
   "source": [
    "# partly\n",
    "a = 'b c d e'\n",
    "a.split()\n",
    "a.strip()\n",
    "a.rstrip()\n",
    "a.lstrip()\n",
    "a.replace()\n",
    "a.endswith()\n",
    "a.startswith()\n",
    "a.upper()\n",
    "a.lower()"
   ]
  },
  {
   "cell_type": "markdown",
   "id": "b2d73d63-8f2c-4308-9b27-387142e8e475",
   "metadata": {},
   "source": [
    "## Number"
   ]
  },
  {
   "cell_type": "code",
   "execution_count": 103,
   "id": "6abcde32-6f35-4671-9cdc-107ca0d27fdd",
   "metadata": {},
   "outputs": [
    {
     "data": {
      "text/plain": [
       "(3, 2, 1, 2.0, 4, 1, 3)"
      ]
     },
     "execution_count": 103,
     "metadata": {},
     "output_type": "execute_result"
    }
   ],
   "source": [
    "1+2,1*2, 2-1, 2/1, 2**2, 10%3, 10//3,"
   ]
  },
  {
   "cell_type": "markdown",
   "id": "27923dee-fa5a-4e22-8815-33e7d344f26e",
   "metadata": {
    "jp-MarkdownHeadingCollapsed": true,
    "tags": []
   },
   "source": [
    "## Slice operation\n",
    "- used for sequence object\n",
    "\n",
    "example:\\\n",
    "a = ['a', 'b', 'c', 'd']\\\n",
    "positive index: 0, 1, 2, 3\\\n",
    "negative index: -4, -3, -2, -1\n"
   ]
  },
  {
   "cell_type": "code",
   "execution_count": 51,
   "id": "18a6a1ac-6a43-41ed-b95d-9ef1c75e0530",
   "metadata": {},
   "outputs": [
    {
     "name": "stdout",
     "output_type": "stream",
     "text": [
      "1\n",
      "[1, 2, 3, 4]\n",
      "[1, 2, 3, 4]\n",
      "[1, 3]\n",
      "4\n",
      "[1, 2, 3]\n",
      "[4, 3, 2, 1]\n",
      "[1, 2, 3, 4]\n"
     ]
    }
   ],
   "source": [
    "# a[lower, upper, step]\n",
    "a=[1,2,3,4]\n",
    "print(a[0])\n",
    "print(a[:])\n",
    "print(a[::])\n",
    "print(a[::2])\n",
    "print(a[-1])\n",
    "print(a[:-1]) # until last element, also a[:3]\n",
    "print(a[::-1]) # reserve\n",
    "print(a[:5]) # correct, can larger than the length\n",
    "# print(a[5]) # wrong, index out of range"
   ]
  },
  {
   "cell_type": "markdown",
   "id": "64f860e3-f62e-4677-af52-38ffb1b53f46",
   "metadata": {
    "jp-MarkdownHeadingCollapsed": true,
    "tags": []
   },
   "source": [
    "## Bit operation\n",
    "- 正数的原码为其二进制\n",
    "- 正数的反码和补码都与原码相同\n",
    "- 负数的绝对值转换成二进制位然后在高位补1就是这个负数的原码\n",
    "- 负数的反码为该数的原码除符号位外所有位取反\n",
    "- 负数的补码为该数的原码除符号位外所有位取反，然后最低位加1\n",
    "\n",
    "Claculations are based on the two's complement. results are presents by true form "
   ]
  },
  {
   "cell_type": "code",
   "execution_count": 3,
   "id": "de7ecfa3-ee29-44c0-82c6-9add051935ea",
   "metadata": {},
   "outputs": [
    {
     "data": {
      "text/plain": [
       "(1, 0, 0, 0)"
      ]
     },
     "execution_count": 3,
     "metadata": {},
     "output_type": "execute_result"
    }
   ],
   "source": [
    "1&1, 1&0, 0&1, 0&0"
   ]
  },
  {
   "cell_type": "code",
   "execution_count": 5,
   "id": "60c68c48-c43d-44f2-9f99-d1d3896d8e4b",
   "metadata": {},
   "outputs": [
    {
     "data": {
      "text/plain": [
       "(0, 1, 1, 0)"
      ]
     },
     "execution_count": 5,
     "metadata": {},
     "output_type": "execute_result"
    }
   ],
   "source": [
    "1^1, 1^0, 0^1, 0^0"
   ]
  },
  {
   "cell_type": "code",
   "execution_count": 19,
   "id": "41a753c4-2b19-4f05-a2db-63c5bbe8a600",
   "metadata": {},
   "outputs": [
    {
     "data": {
      "text/plain": [
       "(1, 1, 1, 0)"
      ]
     },
     "execution_count": 19,
     "metadata": {},
     "output_type": "execute_result"
    }
   ],
   "source": [
    "1|1, 1|0, 0|1, 0|0"
   ]
  },
  {
   "cell_type": "code",
   "execution_count": 14,
   "id": "6ea7375a-a690-4762-9b65-c9cbcbdd0c3c",
   "metadata": {},
   "outputs": [
    {
     "data": {
      "text/plain": [
       "(-2, -1)"
      ]
     },
     "execution_count": 14,
     "metadata": {},
     "output_type": "execute_result"
    }
   ],
   "source": [
    "# 1的原码：0000 0001， \n",
    "# 1的补码：0000 0001， \n",
    "# 取反： 1111 1110，\n",
    "# 转回原码：1000 0010\n",
    "# -2\n",
    "~1,~0"
   ]
  },
  {
   "cell_type": "code",
   "execution_count": 28,
   "id": "f0676213-92f4-4ebc-8d4f-217aee638bf4",
   "metadata": {},
   "outputs": [
    {
     "data": {
      "text/plain": [
       "(0, -1)"
      ]
     },
     "execution_count": 28,
     "metadata": {},
     "output_type": "execute_result"
    }
   ],
   "source": [
    "# -1的原码：1000 0001\n",
    "# -1的反码：1111 1110\n",
    "# -1的补码：1111 1111\n",
    "# 取反：0000 0000\n",
    "# 转回原码： 0\n",
    "~-1,~-0 "
   ]
  },
  {
   "cell_type": "code",
   "execution_count": 33,
   "id": "a694184e-efe7-4924-ae76-6f0b26b0fe24",
   "metadata": {},
   "outputs": [
    {
     "data": {
      "text/plain": [
       "(20, 5)"
      ]
     },
     "execution_count": 33,
     "metadata": {},
     "output_type": "execute_result"
    }
   ],
   "source": [
    "# 5的补码： 0000 0101\n",
    "# 左移2位：0001 0100\n",
    "# 2^4+2^2=20\n",
    "# 20 的补码 0001 0100\n",
    "# 右移两位 0000 0101\n",
    "5<<2, 20>>2"
   ]
  },
  {
   "cell_type": "code",
   "execution_count": null,
   "id": "ccc37587-a262-4306-9a01-215f3f26b5c2",
   "metadata": {},
   "outputs": [],
   "source": []
  }
 ],
 "metadata": {
  "kernelspec": {
   "display_name": "Python 3 (ipykernel)",
   "language": "python",
   "name": "python3"
  },
  "language_info": {
   "codemirror_mode": {
    "name": "ipython",
    "version": 3
   },
   "file_extension": ".py",
   "mimetype": "text/x-python",
   "name": "python",
   "nbconvert_exporter": "python",
   "pygments_lexer": "ipython3",
   "version": "3.9.5"
  }
 },
 "nbformat": 4,
 "nbformat_minor": 5
}
