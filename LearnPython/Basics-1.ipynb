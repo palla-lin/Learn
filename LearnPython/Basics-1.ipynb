{
 "cells": [
  {
   "cell_type": "markdown",
   "id": "c9c3256c-777c-43fe-ba69-4b86d4c95a63",
   "metadata": {
    "tags": [],
    "toc-hr-collapsed": true
   },
   "source": [
    "# Basics I\n",
    "- mainly about data types and their operations."
   ]
  },
  {
   "cell_type": "markdown",
   "id": "05f71529-e7eb-40fe-af19-5c697cad49eb",
   "metadata": {
    "tags": []
   },
   "source": [
    "## Data type\n",
    "- number: int, float, bool, complex\n",
    "- string\n",
    "- tuple\n",
    "- list\n",
    "- set\n",
    "- dictionary\n",
    "\n",
    "**Whether id changes:**\n",
    "- mutable: number, string, tuple\n",
    "- immutable: list, dictionary set\n",
    "\n",
    "**Whether hashable:**\n",
    "- mutable objects are hashable. (number, string, tuple) \n",
    "- a hashable object must implement \n",
    "  - \\_\\Whether hashable_eq\\_\\_()\n",
    "  - \\_\\_cmp\\_\\_()\n",
    "  - \\_\\_hash\\_\\_()\n",
    "\n",
    "**Sequence object:** can be indexed \n",
    "- str\n",
    "- list \n",
    "- tuple"
   ]
  },
  {
   "cell_type": "markdown",
   "id": "7b68060d-f5ad-45ef-8b52-c42f66c021cf",
   "metadata": {},
   "source": [
    "### Dict"
   ]
  },
  {
   "cell_type": "code",
   "execution_count": 62,
   "id": "cb73125e-0982-4c4f-81ce-126de8c7e2fe",
   "metadata": {},
   "outputs": [],
   "source": [
    "# create\n",
    "a = {'b':1, 'c':2} \n",
    "a1 = dict([('d',1), ('f',2)])\n",
    "# get \n",
    "a.items()\n",
    "a.keys()\n",
    "a.values()\n",
    "a.get(key, default)\n",
    "# update\n",
    "a.update(a1)\n",
    "# delete\n",
    "del a[key]\n",
    "a.pop()\n",
    "a.clear()\n"
   ]
  },
  {
   "cell_type": "markdown",
   "id": "eab98b3e-91ac-491c-88e0-929e878e1c07",
   "metadata": {},
   "source": [
    "### Set\n",
    "remove repetitions"
   ]
  },
  {
   "cell_type": "code",
   "execution_count": 77,
   "id": "77ccaa39-531e-4e70-a99c-b827197f0234",
   "metadata": {},
   "outputs": [
    {
     "name": "stdout",
     "output_type": "stream",
     "text": [
      "{'a', 'b'}\n"
     ]
    }
   ],
   "source": [
    "a = set()\n",
    "a.add('a')\n",
    "a.update(['a', 'b'])\n",
    "print(a)"
   ]
  },
  {
   "cell_type": "code",
   "execution_count": 78,
   "id": "a8f978fa-0de3-4258-8fe7-c06860eb31d7",
   "metadata": {},
   "outputs": [
    {
     "data": {
      "text/plain": [
       "{'b'}"
      ]
     },
     "execution_count": 78,
     "metadata": {},
     "output_type": "execute_result"
    }
   ],
   "source": [
    "a.remove('a') # report error if key is not in set\n",
    "a.discard('f') # no error if key is not in set\n",
    "a.pop()\n",
    "a.clear()\n"
   ]
  },
  {
   "cell_type": "markdown",
   "id": "10d1099d-24b9-4b4e-a8c0-d0e8b5a0fe1a",
   "metadata": {},
   "source": [
    "### list"
   ]
  },
  {
   "cell_type": "code",
   "execution_count": 2,
   "id": "db6c9ec1-887d-4868-90ff-6bb84867eeda",
   "metadata": {},
   "outputs": [],
   "source": [
    "a = ['a', 'b', 'c', 'd']\n",
    "\n",
    "# update\n",
    "a.append(object)\n",
    "a.extend(list)\n",
    "a = a+[1,2]\n",
    "a.insert(index, object)\n",
    "# delete\n",
    "a.remove('b')\n",
    "a.pop()\n",
    "del a[0]\n",
    "a.clear()\n",
    "# other\n",
    "a.sort()\n",
    "a.reverse()\n",
    "a.count('c')\n",
    "a.index('b')"
   ]
  },
  {
   "cell_type": "markdown",
   "id": "045146e6-de6b-4a97-9a33-cca7568fb783",
   "metadata": {},
   "source": [
    "### tuple"
   ]
  },
  {
   "cell_type": "code",
   "execution_count": 87,
   "id": "2785a4ee-771d-47eb-bdd5-baa5371894fe",
   "metadata": {},
   "outputs": [
    {
     "data": {
      "text/plain": [
       "(1, 0)"
      ]
     },
     "execution_count": 87,
     "metadata": {},
     "output_type": "execute_result"
    }
   ],
   "source": [
    "# single element, need a **comma**\n",
    "a = ('b', )\n",
    "a.count('b'),a.index('b')"
   ]
  },
  {
   "cell_type": "markdown",
   "id": "46dc71db-d274-40bc-a9d6-f0c1768f7759",
   "metadata": {},
   "source": [
    "### String \n",
    "\n",
    "doc: \"\"\"abcd\"\"\"\n",
    "u-string: u'abcd'\n",
    "r-string: r'abcd'\n",
    "f-string: f'abcd'\n",
    "\n",
    "\n"
   ]
  },
  {
   "cell_type": "markdown",
   "id": "5451e231-e7a7-4fbd-9c30-7baa66f34b05",
   "metadata": {},
   "source": [
    "#### Format"
   ]
  },
  {
   "cell_type": "code",
   "execution_count": 89,
   "id": "6223ec24-fa8f-4e6d-8167-ece8a035cf85",
   "metadata": {},
   "outputs": [
    {
     "data": {
      "text/plain": [
       "(86, 'score:86', 'score: 86', 'score: 86')"
      ]
     },
     "execution_count": 89,
     "metadata": {},
     "output_type": "execute_result"
    }
   ],
   "source": [
    "\n",
    "# Now, simply use f string\n",
    "a=86 \n",
    "b=f'score: {a}'\n",
    "c='score: %s'%(a)\n",
    "d='score: {}'.format(a)\n",
    "a,b,c,d"
   ]
  },
  {
   "cell_type": "markdown",
   "id": "a218455e-8c00-4060-9a1c-94c98e301e3e",
   "metadata": {},
   "source": [
    "#### built-in function"
   ]
  },
  {
   "cell_type": "code",
   "execution_count": 95,
   "id": "74cf3d5b-ae1a-4d25-a2b6-490a52b7712f",
   "metadata": {},
   "outputs": [],
   "source": [
    "# partly\n",
    "a = 'b c d e'\n",
    "a.split()\n",
    "a.strip()\n",
    "a.rstrip()\n",
    "a.lstrip()\n",
    "a.replace()\n",
    "a.endswith()\n",
    "a.startswith()\n",
    "a.upper()\n",
    "a.lower()"
   ]
  },
  {
   "cell_type": "markdown",
   "id": "b2d73d63-8f2c-4308-9b27-387142e8e475",
   "metadata": {},
   "source": [
    "### Number"
   ]
  },
  {
   "cell_type": "code",
   "execution_count": 103,
   "id": "6abcde32-6f35-4671-9cdc-107ca0d27fdd",
   "metadata": {},
   "outputs": [
    {
     "data": {
      "text/plain": [
       "(3, 2, 1, 2.0, 4, 1, 3)"
      ]
     },
     "execution_count": 103,
     "metadata": {},
     "output_type": "execute_result"
    }
   ],
   "source": [
    "1+2,1*2, 2-1, 2/1, 2**2, 10%3, 10//3,"
   ]
  },
  {
   "cell_type": "markdown",
   "id": "27923dee-fa5a-4e22-8815-33e7d344f26e",
   "metadata": {
    "jp-MarkdownHeadingCollapsed": true,
    "tags": []
   },
   "source": [
    "## Slice operation\n",
    "- used for sequence object\n",
    "\n",
    "example:\\\n",
    "a = ['a', 'b', 'c', 'd']\\\n",
    "positive index: 0, 1, 2, 3\\\n",
    "negative index: -4, -3, -2, -1\n"
   ]
  },
  {
   "cell_type": "code",
   "execution_count": 51,
   "id": "18a6a1ac-6a43-41ed-b95d-9ef1c75e0530",
   "metadata": {},
   "outputs": [
    {
     "name": "stdout",
     "output_type": "stream",
     "text": [
      "1\n",
      "[1, 2, 3, 4]\n",
      "[1, 2, 3, 4]\n",
      "[1, 3]\n",
      "4\n",
      "[1, 2, 3]\n",
      "[4, 3, 2, 1]\n",
      "[1, 2, 3, 4]\n"
     ]
    }
   ],
   "source": [
    "# a[lower, upper, step]\n",
    "a=[1,2,3,4]\n",
    "print(a[0])\n",
    "print(a[:])\n",
    "print(a[::])\n",
    "print(a[::2])\n",
    "print(a[-1])\n",
    "print(a[:-1]) # until last element, also a[:3]\n",
    "print(a[::-1]) # reserve\n",
    "print(a[:5]) # correct, can larger than the length\n",
    "# print(a[5]) # wrong, index out of range"
   ]
  },
  {
   "cell_type": "markdown",
   "id": "64f860e3-f62e-4677-af52-38ffb1b53f46",
   "metadata": {
    "tags": []
   },
   "source": [
    "## Bit operation\n",
    "- 正数的原码为其二进制\n",
    "- 正数的反码和补码都与原码相同\n",
    "- 负数的绝对值转换成二进制位然后在高位补1就是这个负数的原码\n",
    "- 负数的反码为该数的原码除符号位外所有位取反\n",
    "- 负数的补码为该数的原码除符号位外所有位取反，然后最低位加1\n",
    "\n",
    "Claculations are based on the two's complement. results are presents by true form "
   ]
  },
  {
   "cell_type": "code",
   "execution_count": 3,
   "id": "de7ecfa3-ee29-44c0-82c6-9add051935ea",
   "metadata": {},
   "outputs": [
    {
     "data": {
      "text/plain": [
       "(1, 0, 0, 0)"
      ]
     },
     "execution_count": 3,
     "metadata": {},
     "output_type": "execute_result"
    }
   ],
   "source": [
    "1&1, 1&0, 0&1, 0&0"
   ]
  },
  {
   "cell_type": "code",
   "execution_count": 5,
   "id": "60c68c48-c43d-44f2-9f99-d1d3896d8e4b",
   "metadata": {},
   "outputs": [
    {
     "data": {
      "text/plain": [
       "(0, 1, 1, 0)"
      ]
     },
     "execution_count": 5,
     "metadata": {},
     "output_type": "execute_result"
    }
   ],
   "source": [
    "1^1, 1^0, 0^1, 0^0"
   ]
  },
  {
   "cell_type": "code",
   "execution_count": 19,
   "id": "41a753c4-2b19-4f05-a2db-63c5bbe8a600",
   "metadata": {},
   "outputs": [
    {
     "data": {
      "text/plain": [
       "(1, 1, 1, 0)"
      ]
     },
     "execution_count": 19,
     "metadata": {},
     "output_type": "execute_result"
    }
   ],
   "source": [
    "1|1, 1|0, 0|1, 0|0"
   ]
  },
  {
   "cell_type": "code",
   "execution_count": 14,
   "id": "6ea7375a-a690-4762-9b65-c9cbcbdd0c3c",
   "metadata": {},
   "outputs": [
    {
     "data": {
      "text/plain": [
       "(-2, -1)"
      ]
     },
     "execution_count": 14,
     "metadata": {},
     "output_type": "execute_result"
    }
   ],
   "source": [
    "# 1的原码：0000 0001， \n",
    "# 1的补码：0000 0001， \n",
    "# 取反： 1111 1110，\n",
    "# 转回原码：1000 0010\n",
    "# -2\n",
    "~1,~0"
   ]
  },
  {
   "cell_type": "code",
   "execution_count": 28,
   "id": "f0676213-92f4-4ebc-8d4f-217aee638bf4",
   "metadata": {},
   "outputs": [
    {
     "data": {
      "text/plain": [
       "(0, -1)"
      ]
     },
     "execution_count": 28,
     "metadata": {},
     "output_type": "execute_result"
    }
   ],
   "source": [
    "# -1的原码：1000 0001\n",
    "# -1的反码：1111 1110\n",
    "# -1的补码：1111 1111\n",
    "# 取反：0000 0000\n",
    "# 转回原码： 0\n",
    "~-1,~-0 "
   ]
  },
  {
   "cell_type": "code",
   "execution_count": 33,
   "id": "a694184e-efe7-4924-ae76-6f0b26b0fe24",
   "metadata": {},
   "outputs": [
    {
     "data": {
      "text/plain": [
       "(20, 5)"
      ]
     },
     "execution_count": 33,
     "metadata": {},
     "output_type": "execute_result"
    }
   ],
   "source": [
    "# 5的补码： 0000 0101\n",
    "# 左移2位：0001 0100\n",
    "# 2^4+2^2=20\n",
    "# 20 的补码 0001 0100\n",
    "# 右移两位 0000 0101\n",
    "5<<2, 20>>2"
   ]
  },
  {
   "cell_type": "markdown",
   "id": "e3349b7b-3f7e-4aa9-9e28-bf4c04e35d40",
   "metadata": {
    "jp-MarkdownHeadingCollapsed": true,
    "tags": [],
    "toc-hr-collapsed": true
   },
   "source": [
    "# Basics II\n",
    "Function, class, file, module, error and exception"
   ]
  },
  {
   "cell_type": "markdown",
   "id": "d35d600f-f0fd-4ef8-9e9a-ab7f822b360c",
   "metadata": {
    "tags": [],
    "toc-hr-collapsed": true
   },
   "source": [
    "## Function\n",
    "- all arguments are pass by id reference\n",
    "- arg0: positional argument, have to be assigned\n",
    "- arg1: default argument, use default if not assigned\n",
    "- *args: variable number of argumnents\n",
    "- **kwargs: variable number of argumnents key-value format\n",
    "- pass: placeholder, \n",
    "- reuturn: return None, sigle element, or tuple when multiple elements "
   ]
  },
  {
   "cell_type": "code",
   "execution_count": 37,
   "id": "24b3d7b9-9c03-488c-bfa5-8232dda4638e",
   "metadata": {},
   "outputs": [
    {
     "name": "stdout",
     "output_type": "stream",
     "text": [
      "arg0: 0, arg1: 1, *args: (12, 13), **kwargs: {'a': 1, 'b': 2}\n"
     ]
    }
   ],
   "source": [
    "# define a function\n",
    "def func(arg0, arg1=1, *args, **kwargs):\n",
    "    print(f'arg0: {arg0}, arg1: {arg1}, *args: {args}, **kwargs: {kwargs}')\n",
    "    pass\n",
    "    return \n",
    "func(0,1,12,13,a=1,b=2)\n"
   ]
  },
  {
   "cell_type": "markdown",
   "id": "7a19a3b1-a7e8-4ea3-892a-66379d639c07",
   "metadata": {},
   "source": [
    "### namespace\n",
    "- Search priority: local -> global -> built-in\n",
    "- only module, class, functions introduce new namespace\n",
    "- global, nonlocal"
   ]
  },
  {
   "cell_type": "code",
   "execution_count": 60,
   "id": "8603edab-1945-4911-8095-cbfa7f1b5691",
   "metadata": {},
   "outputs": [
    {
     "name": "stdout",
     "output_type": "stream",
     "text": [
      "nonlocal\n",
      "local\n",
      "global\n"
     ]
    }
   ],
   "source": [
    "x='global'\n",
    "def func():\n",
    "    x='nonlocal'\n",
    "    print(x)\n",
    "    def func_inner():\n",
    "        x='local'\n",
    "        print(x)\n",
    "    func_inner()\n",
    "func()\n",
    "print(x)\n"
   ]
  },
  {
   "cell_type": "code",
   "execution_count": 62,
   "id": "50c3de0d-1da5-44c0-b522-7478fea2409a",
   "metadata": {},
   "outputs": [
    {
     "name": "stdout",
     "output_type": "stream",
     "text": [
      "global\n",
      "3\n"
     ]
    }
   ],
   "source": [
    "x='global'\n",
    "def func():\n",
    "    print(x) # access inside of function\n",
    "func()\n",
    "def func():\n",
    "    global x\n",
    "    x=3 # modify global variable using keyword global\n",
    "func()\n",
    "print(x) # global value changed"
   ]
  },
  {
   "cell_type": "code",
   "execution_count": 61,
   "id": "5082e9b3-14df-43a3-9a97-72ff7330d528",
   "metadata": {},
   "outputs": [
    {
     "name": "stdout",
     "output_type": "stream",
     "text": [
      "local_modyfy\n",
      "global\n"
     ]
    }
   ],
   "source": [
    "x='global'\n",
    "def func():\n",
    "    x='nonlocal'\n",
    "    def func_inner():\n",
    "        nonlocal x\n",
    "        x='local_modyfy' # modify nonlocal variable using keyword nonlocal\n",
    "    func_inner()\n",
    "    print(x)\n",
    "func()\n",
    "print(x) # no effect on glocal namespace"
   ]
  },
  {
   "cell_type": "markdown",
   "id": "895cfa95-a193-4180-8546-e6ef8d475a58",
   "metadata": {},
   "source": [
    "### High-level functions\n",
    "- lambda\n",
    "- filter(func,iterable)\n",
    "- reduce(func,sequence)\n",
    "- map(func,iterable)"
   ]
  },
  {
   "cell_type": "code",
   "execution_count": 64,
   "id": "6aa2ee62-84a5-4dec-8a8f-5e347472738e",
   "metadata": {},
   "outputs": [
    {
     "data": {
      "text/plain": [
       "6"
      ]
     },
     "execution_count": 64,
     "metadata": {},
     "output_type": "execute_result"
    }
   ],
   "source": [
    "# lambda argumments: expression\n",
    "# it is an anonymous function\n",
    "f = lambda x: x+1\n",
    "f(5)"
   ]
  },
  {
   "cell_type": "code",
   "execution_count": 69,
   "id": "1f551411-220a-42a5-be9e-d13ef7f705f7",
   "metadata": {},
   "outputs": [
    {
     "data": {
      "text/plain": [
       "[4, 5, 6]"
      ]
     },
     "execution_count": 69,
     "metadata": {},
     "output_type": "execute_result"
    }
   ],
   "source": [
    "# process every item in iterable using func\n",
    "def func(x):\n",
    "    if x > 3: return True\n",
    "    if x< x: return False\n",
    "res = filter(func, [1,2,4,5,6])\n",
    "list(res)"
   ]
  },
  {
   "cell_type": "code",
   "execution_count": 71,
   "id": "5d0909b8-f904-4eaa-9adb-cc78ae9521cb",
   "metadata": {},
   "outputs": [
    {
     "data": {
      "text/plain": [
       "[1, 4, 16, 25, 36]"
      ]
     },
     "execution_count": 71,
     "metadata": {},
     "output_type": "execute_result"
    }
   ],
   "source": [
    "# process every item in iterable using func\n",
    "def func(x):\n",
    "    return x**2\n",
    "res = map(func, [1,2,4,5,6])\n",
    "list(res)"
   ]
  },
  {
   "cell_type": "code",
   "execution_count": 75,
   "id": "48433cc7-9019-42a8-b15e-6fa617eeeaeb",
   "metadata": {},
   "outputs": [
    {
     "name": "stdout",
     "output_type": "stream",
     "text": [
      "1 2 3\n",
      "3 4 7\n",
      "7 5 12\n",
      "12 6 18\n"
     ]
    },
    {
     "data": {
      "text/plain": [
       "18"
      ]
     },
     "execution_count": 75,
     "metadata": {},
     "output_type": "execute_result"
    }
   ],
   "source": [
    "from functools import reduce\n",
    "def func(x, y):\n",
    "    print(x,y, x+y)\n",
    "    return x+y\n",
    "reduce(func, [1,2,4,5,6]) "
   ]
  },
  {
   "cell_type": "markdown",
   "id": "c1b0aef5-3a5b-4dd5-bd9f-4ee3c7f4376e",
   "metadata": {},
   "source": [
    "### Some Built-in functions\n",
    "- len() \n",
    "- sum() \n",
    "- max()\n",
    "- min()\n",
    "- sorted()\n",
    "- zip()\n",
    "- eval()\n",
    "- enumerate()\n",
    "- repr()\n",
    "- locals()\n",
    "- globals()\n",
    "- dir()"
   ]
  },
  {
   "cell_type": "markdown",
   "id": "a2a34592-df18-475a-b974-26a235c5b6a8",
   "metadata": {
    "jp-MarkdownHeadingCollapsed": true,
    "tags": []
   },
   "source": [
    "## Class\n",
    "- class valuable\n",
    "- class methods\n",
    "- instance valuable\n",
    "- instance methods\n",
    "- Inheritance\n",
    " - Private Variables\n",
    "...\n",
    "https://docs.python.org/3/tutorial/classes.html"
   ]
  },
  {
   "cell_type": "code",
   "execution_count": 78,
   "id": "c8e9acdc-4439-4bfb-a0bb-e79b2350ae4d",
   "metadata": {},
   "outputs": [
    {
     "data": {
      "text/plain": [
       "['__class__',\n",
       " '__delattr__',\n",
       " '__dict__',\n",
       " '__dir__',\n",
       " '__doc__',\n",
       " '__eq__',\n",
       " '__format__',\n",
       " '__ge__',\n",
       " '__getattribute__',\n",
       " '__gt__',\n",
       " '__hash__',\n",
       " '__init__',\n",
       " '__init_subclass__',\n",
       " '__le__',\n",
       " '__lt__',\n",
       " '__module__',\n",
       " '__ne__',\n",
       " '__new__',\n",
       " '__reduce__',\n",
       " '__reduce_ex__',\n",
       " '__repr__',\n",
       " '__setattr__',\n",
       " '__sizeof__',\n",
       " '__str__',\n",
       " '__subclasshook__',\n",
       " '__weakref__']"
      ]
     },
     "execution_count": 78,
     "metadata": {},
     "output_type": "execute_result"
    }
   ],
   "source": [
    "class test:\n",
    "    pass\n",
    "dir(test)"
   ]
  },
  {
   "cell_type": "markdown",
   "id": "c4b35326-2b4c-4226-b9f2-59cd3cbff40a",
   "metadata": {},
   "source": [
    "## File"
   ]
  },
  {
   "cell_type": "code",
   "execution_count": 92,
   "id": "b9e97872-ae05-4b5e-8bc7-205b96de1499",
   "metadata": {},
   "outputs": [],
   "source": [
    "# default\n",
    "# mode can be r/w/a/rb/r+ etc.\n",
    "with open('path.txt', mode='w', encoding='utf-8') as f:\n",
    "    f.write('test')\n",
    "    f.writelines(['test1', 'test2'])\n",
    "with open('path.txt', mode='r', encoding='utf-8') as f:\n",
    "    f.read(10)\n",
    "    f.readline()\n",
    "    f.readlines()\n",
    "with open('path.txt', mode='r', encoding='utf-8') as f:\n",
    "    for line in f: # as iterator\n",
    "        pass\n",
    "# packages like json, pandas, pickle"
   ]
  },
  {
   "cell_type": "markdown",
   "id": "90bd7a49-4c26-42a5-b201-8198abf764a5",
   "metadata": {},
   "source": [
    "## Module\n",
    "- a py file is module.\n",
    "- a module includes classes, methods, valuables"
   ]
  },
  {
   "cell_type": "code",
   "execution_count": 91,
   "id": "1b5eacb8-3fe1-49df-8007-61ff111d3418",
   "metadata": {},
   "outputs": [
    {
     "name": "stdout",
     "output_type": "stream",
     "text": [
      "1676216542.7985537\n"
     ]
    },
    {
     "data": {
      "text/plain": [
       "Linear(in_features=3, out_features=4, bias=True)"
      ]
     },
     "execution_count": 91,
     "metadata": {},
     "output_type": "execute_result"
    }
   ],
   "source": [
    "import time\n",
    "print(time.time())\n",
    "import torch.nn as nn\n",
    "from torch.nn import Linear\n",
    "Linear(3,4)"
   ]
  },
  {
   "cell_type": "markdown",
   "id": "f47e0df4-3a28-485e-b827-eb661c483214",
   "metadata": {},
   "source": [
    "## Error & Exception\n",
    "- try, except, else, finnaly\n",
    "- raise\n",
    "- assert\n",
    "\n",
    "https://docs.python.org/3/tutorial/errors.html"
   ]
  },
  {
   "cell_type": "code",
   "execution_count": 108,
   "id": "b87a7eb8-1ede-4cff-ad91-f02cd16718ca",
   "metadata": {},
   "outputs": [
    {
     "name": "stdout",
     "output_type": "stream",
     "text": [
      "division by zero!\n",
      "executing finally clause\n"
     ]
    }
   ],
   "source": [
    "def divide(x, y):\n",
    "    try:\n",
    "        result = x / y\n",
    "    except ZeroDivisionError: # excute if catching \n",
    "        print(\"division by zero!\")\n",
    "    else: # excute if no exception\n",
    "        print(\"result is\", result)\n",
    "    finally: # always excutes\n",
    "        print(\"executing finally clause\")\n",
    "divide(11,0)"
   ]
  },
  {
   "cell_type": "code",
   "execution_count": 109,
   "id": "dc78f528-215b-4f80-8ca4-717b144d14b5",
   "metadata": {},
   "outputs": [
    {
     "name": "stdout",
     "output_type": "stream",
     "text": [
      "result is 11.0\n",
      "executing finally clause\n"
     ]
    }
   ],
   "source": [
    "divide(11,1)"
   ]
  },
  {
   "cell_type": "code",
   "execution_count": 110,
   "id": "09094e6d-81a0-4bdf-96b5-753a9a55eba5",
   "metadata": {},
   "outputs": [
    {
     "ename": "Exception",
     "evalue": "Error",
     "output_type": "error",
     "traceback": [
      "\u001b[1;31m--------------------------------------------\u001b[0m",
      "\u001b[1;31mException\u001b[0m  Traceback (most recent call last)",
      "\u001b[1;32m~\\AppData\\Local\\Temp/ipykernel_5588/776561459.py\u001b[0m in \u001b[0;36m<module>\u001b[1;34m\u001b[0m\n\u001b[0;32m      3\u001b[0m     \u001b[1;32mpass\u001b[0m\u001b[1;33m\u001b[0m\u001b[1;33m\u001b[0m\u001b[0m\n\u001b[0;32m      4\u001b[0m \u001b[1;32melse\u001b[0m\u001b[1;33m:\u001b[0m\u001b[1;33m\u001b[0m\u001b[1;33m\u001b[0m\u001b[0m\n\u001b[1;32m----> 5\u001b[1;33m     \u001b[1;32mraise\u001b[0m \u001b[0mException\u001b[0m\u001b[1;33m(\u001b[0m\u001b[1;34m'Error'\u001b[0m\u001b[1;33m)\u001b[0m\u001b[1;33m\u001b[0m\u001b[1;33m\u001b[0m\u001b[0m\n\u001b[0m",
      "\u001b[1;31mException\u001b[0m: Error"
     ]
    }
   ],
   "source": [
    "x = 11\n",
    "if x%2==0:\n",
    "    pass\n",
    "else:\n",
    "    raise Exception('Error')"
   ]
  },
  {
   "cell_type": "code",
   "execution_count": 111,
   "id": "3eb384c7-c8ca-4579-a242-d2fca45e050e",
   "metadata": {},
   "outputs": [
    {
     "ename": "AssertionError",
     "evalue": "",
     "output_type": "error",
     "traceback": [
      "\u001b[1;31m--------------------------------------------\u001b[0m",
      "\u001b[1;31mAssertionError\u001b[0mTraceback (most recent call last)",
      "\u001b[1;32m~\\AppData\\Local\\Temp/ipykernel_5588/3973483486.py\u001b[0m in \u001b[0;36m<module>\u001b[1;34m\u001b[0m\n\u001b[0;32m      1\u001b[0m \u001b[0mx\u001b[0m\u001b[1;33m=\u001b[0m\u001b[1;36m11\u001b[0m\u001b[1;33m\u001b[0m\u001b[1;33m\u001b[0m\u001b[0m\n\u001b[1;32m----> 2\u001b[1;33m \u001b[1;32massert\u001b[0m \u001b[0mx\u001b[0m\u001b[1;33m%\u001b[0m\u001b[1;36m2\u001b[0m\u001b[1;33m==\u001b[0m\u001b[1;36m0\u001b[0m\u001b[1;33m\u001b[0m\u001b[1;33m\u001b[0m\u001b[0m\n\u001b[0m",
      "\u001b[1;31mAssertionError\u001b[0m: "
     ]
    }
   ],
   "source": [
    "x=11\n",
    "assert x%2==0"
   ]
  },
  {
   "cell_type": "markdown",
   "id": "9e85e225-ac88-4894-a5a0-7d9fa36d04a5",
   "metadata": {
    "tags": [],
    "toc-hr-collapsed": true
   },
   "source": [
    "# Intermediate"
   ]
  },
  {
   "cell_type": "markdown",
   "id": "f98fbcbd-88ef-44f4-a934-f92b4c1e2c38",
   "metadata": {},
   "source": [
    "## list comprehension"
   ]
  },
  {
   "cell_type": "code",
   "execution_count": 38,
   "id": "08de42d5-73f6-4a37-9add-7f6163bbca87",
   "metadata": {},
   "outputs": [
    {
     "data": {
      "text/plain": [
       "[1, 4, 9, 16]"
      ]
     },
     "execution_count": 38,
     "metadata": {},
     "output_type": "execute_result"
    }
   ],
   "source": [
    "[x**2 for x in [1,2,3,4]]"
   ]
  },
  {
   "cell_type": "markdown",
   "id": "8d15d336-8e4a-42a1-9a0f-564e9bdbede9",
   "metadata": {
    "tags": []
   },
   "source": [
    "## Iterator\n",
    "- object is iterable if having `__iter__() ` \n",
    "- object is an iterator if having `__iter__() ` and `__next__`\n",
    "`__iter__() ` have to return a object with ` __next__() `"
   ]
  },
  {
   "cell_type": "code",
   "execution_count": 39,
   "id": "0fd1848b-e3f8-44fb-ba3f-6f43e5392602",
   "metadata": {},
   "outputs": [
    {
     "data": {
      "text/plain": [
       "1"
      ]
     },
     "execution_count": 39,
     "metadata": {},
     "output_type": "execute_result"
    }
   ],
   "source": [
    "class MyNumbers:\n",
    "    def __iter__(self):\n",
    "        self.a = 1\n",
    "        return self # self has __next__()\n",
    "    def __next__(self):\n",
    "        x = self.a\n",
    "        self.a += 1\n",
    "        return x\n",
    "num = MyNumbers()\n",
    "num = iter(num)\n",
    "next(num)\n"
   ]
  },
  {
   "cell_type": "code",
   "execution_count": 40,
   "id": "c2815263-7e20-49ca-9ffd-ec39ad1a84ad",
   "metadata": {},
   "outputs": [
    {
     "name": "stdout",
     "output_type": "stream",
     "text": [
      "1\n",
      "2\n",
      "3\n"
     ]
    }
   ],
   "source": [
    "# list is iterable\n",
    "a = [1,2,3]\n",
    "for i in a:\n",
    "    print(i)"
   ]
  },
  {
   "cell_type": "markdown",
   "id": "e8ff750a-1695-4b87-9aed-33e326807f74",
   "metadata": {
    "tags": []
   },
   "source": [
    "## Generator\n",
    "- a function return an iterator"
   ]
  },
  {
   "cell_type": "code",
   "execution_count": 16,
   "id": "b80cee19-b625-4a75-8890-fa0578c1f4e9",
   "metadata": {},
   "outputs": [
    {
     "data": {
      "text/plain": [
       "1"
      ]
     },
     "execution_count": 16,
     "metadata": {},
     "output_type": "execute_result"
    }
   ],
   "source": [
    "class MyNumbers:\n",
    "    def __iter__(self):\n",
    "        self.a = 1\n",
    "        yield self.a # yield return a iterator\n",
    "num = MyNumbers()\n",
    "num = iter(num)\n",
    "next(num)\n"
   ]
  },
  {
   "cell_type": "markdown",
   "id": "7f317de8-154e-42c5-a09a-9a5a91233b8a",
   "metadata": {},
   "source": [
    "## Decorator"
   ]
  },
  {
   "cell_type": "code",
   "execution_count": 33,
   "id": "4f616c4e-39e8-4bed-afc4-d0d5124c59f2",
   "metadata": {},
   "outputs": [
    {
     "name": "stdout",
     "output_type": "stream",
     "text": [
      "you are in decorator\n",
      "you are in func\n"
     ]
    }
   ],
   "source": [
    "# let us see a single layer function\n",
    "def dec(func):\n",
    "    print('you are in decorator')\n",
    "    func()\n",
    "@dec  # you already call dec here, not proper, need to return a function \n",
    "def func():\n",
    "    print('you are in func')"
   ]
  },
  {
   "cell_type": "code",
   "execution_count": 34,
   "id": "7e059dd8-6919-408b-94eb-bd5380b9ae98",
   "metadata": {},
   "outputs": [
    {
     "name": "stdout",
     "output_type": "stream",
     "text": [
      "you are in decorator\n",
      "you are in func\n"
     ]
    }
   ],
   "source": [
    "# to return a function, two layer functions are needed\n",
    "def dec(func):\n",
    "    def inner():\n",
    "        print('you are in decorator')\n",
    "        func()\n",
    "        return \n",
    "    return inner\n",
    "    \n",
    "@dec  # you already call dec here, return inner()\n",
    "def func():\n",
    "    print('you are in func')\n",
    "func() # only call func(), you get the output"
   ]
  },
  {
   "cell_type": "code",
   "execution_count": 35,
   "id": "278f27aa-a62b-4b16-b833-e9a72103be26",
   "metadata": {},
   "outputs": [
    {
     "data": {
      "text/plain": [
       "'inner'"
      ]
     },
     "execution_count": 35,
     "metadata": {},
     "output_type": "execute_result"
    }
   ],
   "source": [
    "func.__name__ # func name is changed to inner(), if we want to keep the original name, see below"
   ]
  },
  {
   "cell_type": "code",
   "execution_count": 36,
   "id": "41e29eb9-d657-4860-9a35-2a859f3c73bc",
   "metadata": {},
   "outputs": [
    {
     "name": "stdout",
     "output_type": "stream",
     "text": [
      "you are in decorator\n",
      "you are in func\n"
     ]
    }
   ],
   "source": [
    "# to keep the original name\n",
    "from functools import wraps\n",
    "def dec(func):\n",
    "    @wraps(func)\n",
    "    def inner():\n",
    "        print('you are in decorator')\n",
    "        func()\n",
    "        return \n",
    "    return inner\n",
    "    \n",
    "@dec  # you already call dec here, return inner()\n",
    "def func():\n",
    "    print('you are in func')\n",
    "func() # only call func(), you get the output"
   ]
  },
  {
   "cell_type": "code",
   "execution_count": 37,
   "id": "b5aae7b0-18ef-4298-be53-d48b1424fbba",
   "metadata": {},
   "outputs": [
    {
     "data": {
      "text/plain": [
       "'func'"
      ]
     },
     "execution_count": 37,
     "metadata": {},
     "output_type": "execute_result"
    }
   ],
   "source": [
    "func.__name__ # now original name is kept"
   ]
  },
  {
   "cell_type": "code",
   "execution_count": 32,
   "id": "32948e9b-48a1-4c35-b6be-44a8a2a71796",
   "metadata": {},
   "outputs": [
    {
     "name": "stdout",
     "output_type": "stream",
     "text": [
      "you are in decorator, i got arguments: (1, 2, 3) and {'name': 'lpl', 'ids': '00001'}\n",
      "you are in func\n"
     ]
    }
   ],
   "source": [
    "# if we want to sent some arguments by @dec(args)\n",
    "# we then need a more layer, i.e. three layers\n",
    "from functools import wraps\n",
    "def dec_outer(*args, **kwargs):\n",
    "    def dec(func):\n",
    "        @wraps(func)\n",
    "        def inner():\n",
    "            print(f'you are in decorator, i got arguments: {args} and {kwargs}')\n",
    "            func()\n",
    "            return \n",
    "        return inner\n",
    "    return dec\n",
    "    \n",
    "@dec_outer(1,2,3, name='lpl', ids='00001')  # you already call dec here, return inner()\n",
    "def func():\n",
    "    print('you are in func')\n",
    "func() # only call func(), you get the output"
   ]
  },
  {
   "cell_type": "markdown",
   "id": "8c1ec29e-5bcd-40a8-8be0-399425e8e09e",
   "metadata": {},
   "source": [
    "## reflective mode"
   ]
  },
  {
   "cell_type": "code",
   "execution_count": null,
   "id": "3aa41bbb-90db-4a67-b3e7-ab16b33f9904",
   "metadata": {},
   "outputs": [],
   "source": [
    "getattr()\n",
    "hasattr()\n",
    "setattr()\n",
    "delattr()"
   ]
  },
  {
   "cell_type": "markdown",
   "id": "825cfe03-1b32-4214-8806-d28ee7b6db98",
   "metadata": {},
   "source": [
    "## Singleton Pattern"
   ]
  },
  {
   "cell_type": "code",
   "execution_count": null,
   "id": "bf04ce46-345f-409b-8129-95f9d27f4b66",
   "metadata": {},
   "outputs": [],
   "source": [
    "class Foo: \n",
    "    __v=None\n",
    "    @classmethod \n",
    "    def get instance(cls): \n",
    "        if cls.v: \n",
    "            return c1s.v\n",
    "        else: c1s.v=Foo()\n",
    "            return c1s.v"
   ]
  }
 ],
 "metadata": {
  "kernelspec": {
   "display_name": "Python 3 (ipykernel)",
   "language": "python",
   "name": "python3"
  },
  "language_info": {
   "codemirror_mode": {
    "name": "ipython",
    "version": 3
   },
   "file_extension": ".py",
   "mimetype": "text/x-python",
   "name": "python",
   "nbconvert_exporter": "python",
   "pygments_lexer": "ipython3",
   "version": "3.9.5"
  }
 },
 "nbformat": 4,
 "nbformat_minor": 5
}
