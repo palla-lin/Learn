{
 "cells": [
  {
   "cell_type": "markdown",
   "id": "a792c818-26f7-45a9-9653-aaca1fdf7192",
   "metadata": {},
   "source": [
    "# Senior"
   ]
  },
  {
   "cell_type": "markdown",
   "id": "cd95542f-671c-45fa-b0b7-8e81694e29eb",
   "metadata": {},
   "source": [
    "## Object Oriented Programming"
   ]
  },
  {
   "cell_type": "markdown",
   "id": "7dff7e56-0685-4285-a7b1-1e49349f76e5",
   "metadata": {},
   "source": [
    "## Thread and process"
   ]
  },
  {
   "cell_type": "markdown",
   "id": "d0989752-fe4c-4bd9-b2ef-5c1b2d35a2eb",
   "metadata": {},
   "source": [
    "## Network programming"
   ]
  },
  {
   "cell_type": "markdown",
   "id": "c7792ea9-8b7a-48cf-bd9c-1a85d2b615dc",
   "metadata": {},
   "source": [
    "## Regular expression"
   ]
  },
  {
   "cell_type": "markdown",
   "id": "d8a54141-4a36-471e-bc25-ec6efe24e448",
   "metadata": {},
   "source": [
    "## Web crawler"
   ]
  },
  {
   "cell_type": "markdown",
   "id": "c220f370-0ef5-4911-a61d-1320566666ff",
   "metadata": {},
   "source": [
    "## Design pattern"
   ]
  },
  {
   "cell_type": "markdown",
   "id": "37550815-8c4d-49f2-8e9e-0bd4fa891afb",
   "metadata": {},
   "source": []
  },
  {
   "cell_type": "code",
   "execution_count": null,
   "id": "d421dbcd-73a0-4617-90da-39c02db9094b",
   "metadata": {},
   "outputs": [],
   "source": []
  }
 ],
 "metadata": {
  "kernelspec": {
   "display_name": "Python 3 (ipykernel)",
   "language": "python",
   "name": "python3"
  },
  "language_info": {
   "codemirror_mode": {
    "name": "ipython",
    "version": 3
   },
   "file_extension": ".py",
   "mimetype": "text/x-python",
   "name": "python",
   "nbconvert_exporter": "python",
   "pygments_lexer": "ipython3",
   "version": "3.9.5"
  }
 },
 "nbformat": 4,
 "nbformat_minor": 5
}
