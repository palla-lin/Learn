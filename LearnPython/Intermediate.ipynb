{
 "cells": [
  {
   "cell_type": "markdown",
   "id": "4058bc68-b5de-4dcc-9597-6cc10b30b081",
   "metadata": {
    "tags": []
   },
   "source": [
    "# Intermediate"
   ]
  },
  {
   "cell_type": "markdown",
   "id": "9301fe31-f691-4966-8e3a-61f19fdf2fcc",
   "metadata": {},
   "source": [
    "## list comprehension"
   ]
  },
  {
   "cell_type": "markdown",
   "id": "800f26b7-a730-440c-b194-fc6d06003848",
   "metadata": {},
   "source": [
    "## Iterator"
   ]
  },
  {
   "cell_type": "markdown",
   "id": "d3a815d9-8079-4b39-a253-0b3c03b47429",
   "metadata": {},
   "source": [
    "## Generator"
   ]
  },
  {
   "cell_type": "markdown",
   "id": "b8965b4d-ed5d-4a31-bd1b-35bf7588a88e",
   "metadata": {},
   "source": [
    "## Decorator"
   ]
  },
  {
   "cell_type": "code",
   "execution_count": null,
   "id": "eddd978f-29ff-49d9-b7e7-25bace5216b8",
   "metadata": {},
   "outputs": [],
   "source": []
  }
 ],
 "metadata": {
  "kernelspec": {
   "display_name": "Python 3 (ipykernel)",
   "language": "python",
   "name": "python3"
  },
  "language_info": {
   "codemirror_mode": {
    "name": "ipython",
    "version": 3
   },
   "file_extension": ".py",
   "mimetype": "text/x-python",
   "name": "python",
   "nbconvert_exporter": "python",
   "pygments_lexer": "ipython3",
   "version": "3.9.5"
  }
 },
 "nbformat": 4,
 "nbformat_minor": 5
}
