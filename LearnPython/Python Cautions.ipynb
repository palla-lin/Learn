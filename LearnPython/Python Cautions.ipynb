{
 "cells": [
  {
   "cell_type": "markdown",
   "id": "e6a8a969-b982-4a2f-9f77-5152e143ac72",
   "metadata": {},
   "source": [
    "# Python Cautions"
   ]
  },
  {
   "cell_type": "markdown",
   "id": "e726c18d-82de-44df-a6f7-3c8f392f8aab",
   "metadata": {
    "tags": []
   },
   "source": [
    "## namespace and scope\n",
    "\n",
    "```\n",
    "1. Python 中只有模块（module），类（class）以及函数（def、lambda）才会引入新的作用域，其它的代码块（如 if/elif/else/、try/except、for/while等）是不会引入新的作用域的，也就是说这些语句内定义的变量，外部也可以访问，\n",
    "scope 查找规则顺序： L –> E –> G –> B。\n",
    "```"
   ]
  },
  {
   "cell_type": "code",
   "execution_count": 17,
   "id": "7a15b4a4-094b-4c5a-ad9b-e7a62e5bf9b1",
   "metadata": {},
   "outputs": [],
   "source": [
    "# unbounded error \n",
    "# special case\n",
    "val = 1\n",
    "def fun1():\n",
    "    val2 = val *2 # correct, can be reached\n",
    "    # val = 3 # correct, but id of val is new\n",
    "    print(val, val2)\n",
    "    # val +=3 # wrong\n",
    "\n",
    "val=2\n",
    "def fun2():\n",
    "    val = 3 # correct, but id of val is new\n",
    "    print(val)\n",
    "    # val +=3 # wrong\n",
    "\n",
    "val = 3\n",
    "def fun3():\n",
    "    val2 = val *2 # wrong below line chabge val into local\n",
    "    val = 3  \n",
    "    print(val, val2)\n",
    "    # val +=3 # wrong\n",
    "val = 4\n",
    "def fun4():\n",
    "    val +=3 # wrong, val is local, unbounded error\n",
    "    print(val)\n",
    "fun1()\n",
    "fun2()\n",
    "fun3()\n",
    "fun4()\n"
   ]
  },
  {
   "cell_type": "markdown",
   "id": "dfd7e75c-0b29-4b62-b983-3c7ebc652f51",
   "metadata": {},
   "source": [
    "\n",
    "\n",
    "mutable and immutable variable\n",
    "\n",
    "```\n",
    "python 只有可变类型和不可变类型\n",
    "函数传参时其实穿的都是地址，同个id\n",
    "等号右边不存在，赋值操作产生新的id;等号右边已存在，指向已有id\n",
    "a='ab' 产生新id\n",
    "b='ab' 不产生新的id\n",
    "id(a)=id(b)\n",
    "a='abc' 新的id\n",
    "赋值应理解为绑定（bind）\n",
    "\n",
    "```\n",
    "\n",
    "zip(*var)\n",
    "\n",
    "zip\n",
    "\n",
    "None\n",
    "\n",
    "convert string as variable\n",
    "\n",
    "```\n",
    "var = 'this is string'\n",
    "name = 'var'\n",
    "locals()[name]\n",
    "vars()[name]\n",
    "eval(name)\n",
    "```\n",
    "\n",
    "https://docs.python.org/3/library/functions.html\n",
    "\n",
    "\n",
    "\n",
    "生成器\n",
    "\n",
    "yield or ()推导式\n",
    "\n",
    "迭代器\n",
    "\n",
    "```\n",
    "1. 如果一个对象实现 __iter__()， 那么它是可迭代对象。\n",
    "2. iterator protocol:__iter__() and __next__()\n",
    "3. 如果一个对象可以使用for循环， 那么它是迭代器。必须实现__iter__() 并且返回一个具有 __next__()\n",
    "4. __next__()可以在其他类中实现，并不一定需要在本类中同时实现，__iter__() 和 __next__()，\n",
    "\n",
    "__next__() 需要设置停止条件 StopIteration\n",
    "iter() call __iter__ method.\n",
    "next() call __iter__ method.\n",
    "```\n",
    "\n",
    "对象需要提供next方法，它要么返回迭代中的下一项，要么就引起一个StopIteration异常，以终止迭代"
   ]
  },
  {
   "cell_type": "markdown",
   "id": "21d8ab87-edcd-4a63-83e8-5987a1fae2fd",
   "metadata": {},
   "source": [
    "## When new id is generated in assignment? \n",
    "If object is mutable, like list,  a'+='b operation will **not** generate a new id.\n",
    "\n",
    "while 'a=a+b' will always generate new id."
   ]
  },
  {
   "cell_type": "code",
   "execution_count": 18,
   "id": "a4c1b182-4986-4d71-b8a5-0cb50eb6e165",
   "metadata": {},
   "outputs": [
    {
     "name": "stdout",
     "output_type": "stream",
     "text": [
      "1757500500240\n",
      "1757500500272\n",
      "1757500500304\n"
     ]
    }
   ],
   "source": [
    "a=0\n",
    "print(id(a))\n",
    "a+=1\n",
    "print(id(a))\n",
    "a=a+1\n",
    "print(id(a))"
   ]
  },
  {
   "cell_type": "code",
   "execution_count": 19,
   "id": "5f2fdb15-bb10-472c-b63b-039f4889cba1",
   "metadata": {},
   "outputs": [
    {
     "name": "stdout",
     "output_type": "stream",
     "text": [
      "1757580494784\n",
      "1757580494784\n",
      "1757580490432\n"
     ]
    }
   ],
   "source": [
    "a = [1,2,3,]\n",
    "print(id(a))\n",
    "a += [4]\n",
    "print(id(a))\n",
    "a = a+[4]\n",
    "print(id(a))"
   ]
  },
  {
   "cell_type": "code",
   "execution_count": 20,
   "id": "dd1e4f2d-1e96-45e6-a1a1-87233cab3636",
   "metadata": {},
   "outputs": [
    {
     "name": "stdout",
     "output_type": "stream",
     "text": [
      "1757580326528\n",
      "1757581208528\n",
      "1757580101888\n"
     ]
    }
   ],
   "source": [
    "a = (1,2,3,)\n",
    "print(id(a))\n",
    "a += (4,)\n",
    "print(id(a))\n",
    "a = a+(4,)\n",
    "print(id(a))"
   ]
  },
  {
   "cell_type": "markdown",
   "id": "9f137a98-4b39-4db5-8304-877548138f1c",
   "metadata": {},
   "source": [
    "## None and empty\n",
    "Empty list or dict is equivalent to False, and not equivalent to None"
   ]
  },
  {
   "cell_type": "code",
   "execution_count": 21,
   "id": "5f4fa6db-957a-4b65-a0f8-0e847f1fc17e",
   "metadata": {},
   "outputs": [
    {
     "name": "stdout",
     "output_type": "stream",
     "text": [
      "False\n",
      "Not none\n"
     ]
    }
   ],
   "source": [
    "a=[]\n",
    "if a:\n",
    "    print(True)\n",
    "else:\n",
    "    print(False)\n",
    "if a is None:\n",
    "    print(None)\n",
    "else:\n",
    "    print('Not none')\n",
    "    "
   ]
  },
  {
   "cell_type": "markdown",
   "id": "70fbc747-182d-465f-a260-4d167da19b7c",
   "metadata": {},
   "source": [
    "## slice\n",
    "- slice will generate new id.\n"
   ]
  },
  {
   "cell_type": "code",
   "execution_count": 22,
   "id": "bd98e343-ce3a-45c2-9d96-8b74cd548a27",
   "metadata": {},
   "outputs": [
    {
     "name": "stdout",
     "output_type": "stream",
     "text": [
      "1757580482176\n",
      "1757580454656\n"
     ]
    }
   ],
   "source": [
    "a=[1,2,3,4]\n",
    "print(id(a))\n",
    "b=a[1:3]\n",
    "print(id(b))"
   ]
  },
  {
   "cell_type": "markdown",
   "id": "566c7bcc-a7c6-48a6-8cdb-c8cdf41a386c",
   "metadata": {},
   "source": [
    "- slice can be out of range, but might return empty list"
   ]
  },
  {
   "cell_type": "code",
   "execution_count": 23,
   "id": "091f78b3-328e-4fd3-b162-bff3fb40749b",
   "metadata": {},
   "outputs": [
    {
     "name": "stdout",
     "output_type": "stream",
     "text": [
      "[]\n",
      "[1, 2, 3, 4]\n"
     ]
    }
   ],
   "source": [
    "c=a[9:10]\n",
    "print(c)\n",
    "c=a[0:100]\n",
    "print(c)"
   ]
  },
  {
   "cell_type": "code",
   "execution_count": null,
   "id": "df58fe47-a8f1-423a-b389-d0375b37ce11",
   "metadata": {},
   "outputs": [],
   "source": []
  }
 ],
 "metadata": {
  "kernelspec": {
   "display_name": "Python 3 (ipykernel)",
   "language": "python",
   "name": "python3"
  },
  "language_info": {
   "codemirror_mode": {
    "name": "ipython",
    "version": 3
   },
   "file_extension": ".py",
   "mimetype": "text/x-python",
   "name": "python",
   "nbconvert_exporter": "python",
   "pygments_lexer": "ipython3",
   "version": "3.9.5"
  }
 },
 "nbformat": 4,
 "nbformat_minor": 5
}
