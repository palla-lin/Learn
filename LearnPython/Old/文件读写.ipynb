{
 "cells": [
  {
   "cell_type": "markdown",
   "metadata": {},
   "source": [
    "day08\n",
    "0、目录操作\n",
    "    新建目录\n",
    "    判断目录\n",
    "    列出目录\n",
    "1、自带文件读写\n",
    "    3种读法：read（）；readline（）；readlines（）可以接int作为参数，可以读取小数据量以测试\n",
    "    5种基本模式：r读;w写;a追加;b二进制;+可读可写\n",
    "    2种写法：write（）；writelines（）；\n",
    "    迭代器读方法：for i in f:\n",
    "2、csv模块使用\n",
    "    写writerow();writerows()\n",
    "     标准数据：\n",
    "           ['我是中国人','他们住哪']\n",
    "           [['我是中国人','他们住哪']]\n",
    "    读reder\n",
    "    空行：newline=''\n",
    "    \n",
    "3、pandas模块使用\n",
    "4、pickle模块使用\n",
    "5、json模块使用\n",
    "    \n"
   ]
  },
  {
   "cell_type": "code",
   "execution_count": 6,
   "metadata": {},
   "outputs": [
    {
     "name": "stdout",
     "output_type": "stream",
     "text": [
      "<class 'str'> 照顾\n",
      "中国\n",
      "业精于清欢预习\n",
      "\n",
      "<class 'str'> 照顾\n",
      "\n",
      "<class 'list'> ['照顾\\n', '中国\\n', '业精于清欢预习\\n']\n",
      "['照顾\\n', '中国\\n', '业精于清欢预习\\n']\n"
     ]
    }
   ],
   "source": [
    "# read()字符串变量，全部内容，包括换行\n",
    "path='test.txt'\n",
    "with open (path,'r',encoding='utf-8') as f:\n",
    "    a=f.read()\n",
    "    print(type(a),a)\n",
    "# readline（）字符串变量，一行，包括换行\n",
    "with open (path,'r',encoding='utf-8') as f:\n",
    "    a=f.readline()\n",
    "    print(type(a),a)\n",
    "#readlines（）列表，全部内容，包括换行符\n",
    "with open (path,'r',encoding='utf-8') as f:\n",
    "    a=f.readlines()\n",
    "    print(type(a),a)\n",
    "with open (path,'r',encoding='utf-8') as f:\n",
    "    a=list(f)\n",
    "    print(a)\n"
   ]
  },
  {
   "cell_type": "code",
   "execution_count": 8,
   "metadata": {},
   "outputs": [
    {
     "name": "stdout",
     "output_type": "stream",
     "text": [
      "<class 'list'> ['照顾', '中国', '业精于清欢预习']\n",
      "<class 'list'> ['照顾', '中国', '业精于清欢预习']\n"
     ]
    }
   ],
   "source": [
    "# 去除尾部换行符\n",
    "with open (path,'r',encoding='utf-8') as f:\n",
    "    a=f.read().splitlines()#相当于readlines（）\n",
    "    print(type(a),a)\n",
    "with open (path,'r',encoding='utf-8') as f:\n",
    "    a=[]\n",
    "    for item in f.readlines():\n",
    "        a.append(item[:-1])\n",
    "    print(type(a),a)"
   ]
  },
  {
   "cell_type": "code",
   "execution_count": 8,
   "metadata": {},
   "outputs": [],
   "source": [
    "# 写入文件\n",
    "# write（str）写入字符串，返回长度\n",
    "# with open (path,'a',encoding='utf-8') as f:\n",
    "#     da=['你好', '中国', '业精于清欢预习']\n",
    "#     f.write(da[0])\n",
    "# writelines(seq):写入列表元素，自己添加换行或空格,返回长度\n",
    "#实际调用了write（）方法，所以不能写多维列表,\n",
    "# 相当于 write（'吃法'），write（'中国'），write（'业精于预习'）\n",
    "with open (path,'a',encoding='utf-8') as f:\n",
    "    da=['吃法', '中国', '业精于预习']\n",
    "    f.writelines(da)"
   ]
  },
  {
   "cell_type": "code",
   "execution_count": 22,
   "metadata": {},
   "outputs": [
    {
     "name": "stdout",
     "output_type": "stream",
     "text": [
      "<class '_csv.reader'>\n",
      "['我', '是', '中', '国', '人']\n",
      "['我是中国人']\n",
      "['我是中国人', '他们住哪']\n",
      "[\"['我是中国人', '他们住哪']\"]\n",
      "['我是中国人', '他们住哪']\n",
      "[\"['我是中国人', '他们住哪']\"]\n"
     ]
    }
   ],
   "source": [
    "import csv\n",
    "#写\n",
    "with open('text.csv','w',encoding='utf-8',newline='')as file:\n",
    "    a='我是中国人'\n",
    "    b=['我是中国人']\n",
    "    c=['我是中国人','他们住哪']\n",
    "    d=[['我是中国人','他们住哪']]\n",
    "    e=[[['我是中国人','他们住哪']]]\n",
    "    writer=csv.writer(file)\n",
    "    writer.writerow(a)# 我,是,中,国,人\n",
    "    writer.writerow(b)# 我是中国人\n",
    "    writer.writerow(c)# 我是中国人,他们住哪\n",
    "    writer.writerow(d)# \"['我是中国人', '他们住哪']\"\n",
    "    writer.writerows(d)#我是中国人,他们住哪\n",
    "    writer.writerows(e)#\"['我是中国人', '他们住哪']\"\n",
    "    \n",
    "\n",
    "# 读看到数据加[]\n",
    "with open('text.csv','r',encoding='utf-8',newline='')as file:\n",
    "    con=csv.reader(file)\n",
    "    print(type(con))\n",
    "    for i in con:\n",
    "        print(i)\n",
    "\n",
    "# ['我', '是', '中', '国', '人']\n",
    "# ['我是中国人']\n",
    "# ['我是中国人', '他们住哪']\n",
    "# [\"['我是中国人', '他们住哪']\"]\n",
    "# ['我是中国人', '他们住哪']\n",
    "# [\"['我是中国人', '他们住哪']\"]"
   ]
  },
  {
   "cell_type": "code",
   "execution_count": 8,
   "metadata": {},
   "outputs": [],
   "source": [
    "import csv\n",
    "with open('text.csv','w',encoding='utf-8',newline='')as file:\n",
    "    a='我是中国人'\n",
    "    b=[1,2,3,4]\n",
    "  \n",
    "    d=[[1,2,3,4]]\n",
    "\n",
    "    writer=csv.writer(file)\n",
    "    writer.writerow(a)# 1,2,3,4\n",
    "    writer.writerow(b)# \"[1, 2, 3, 4]\""
   ]
  },
  {
   "cell_type": "code",
   "execution_count": null,
   "metadata": {},
   "outputs": [],
   "source": []
  }
 ],
 "metadata": {
  "kernelspec": {
   "display_name": "Python 3 (ipykernel)",
   "language": "python",
   "name": "python3"
  },
  "language_info": {
   "codemirror_mode": {
    "name": "ipython",
    "version": 3
   },
   "file_extension": ".py",
   "mimetype": "text/x-python",
   "name": "python",
   "nbconvert_exporter": "python",
   "pygments_lexer": "ipython3",
   "version": "3.9.5"
  }
 },
 "nbformat": 4,
 "nbformat_minor": 4
}
