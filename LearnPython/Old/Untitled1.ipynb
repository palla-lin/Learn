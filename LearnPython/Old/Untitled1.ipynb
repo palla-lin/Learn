{
 "cells": [
  {
   "cell_type": "code",
   "execution_count": null,
   "metadata": {},
   "outputs": [],
   "source": [
    "logging模块"
   ]
  },
  {
   "cell_type": "code",
   "execution_count": 1,
   "metadata": {},
   "outputs": [
    {
     "name": "stderr",
     "output_type": "stream",
     "text": [
      "2020-02-17 21:20:46,594 - root - WARNING - logger warning message\n",
      "2020-02-17 21:20:46,598 - root - ERROR - logger error message\n",
      "2020-02-17 21:20:46,598 - root - CRITICAL - logger critical message\n"
     ]
    }
   ],
   "source": [
    "\n",
    "import logging\n",
    "\n",
    "logger = logging.getLogger()\n",
    "# 创建一个handler，用于写入日志文件\n",
    "fh = logging.FileHandler('test.log')\n",
    "\n",
    "# 再创建一个handler，用于输出到控制台\n",
    "ch = logging.StreamHandler()\n",
    "\n",
    "formatter = logging.Formatter('%(asctime)s - %(name)s - %(levelname)s - %(message)s')\n",
    "\n",
    "fh.setFormatter(formatter)\n",
    "ch.setFormatter(formatter)\n",
    "\n",
    "logger.addHandler(fh) #logger对象可以添加多个fh和ch对象\n",
    "logger.addHandler(ch)\n",
    "\n",
    "logger.debug('logger debug message')\n",
    "logger.info('logger info message')\n",
    "logger.warning('logger warning message')\n",
    "logger.error('logger error message')\n",
    "logger.critical('logger critical message')"
   ]
  },
  {
   "cell_type": "code",
   "execution_count": null,
   "metadata": {},
   "outputs": [],
   "source": []
  }
 ],
 "metadata": {
  "kernelspec": {
   "display_name": "Python 3 (ipykernel)",
   "language": "python",
   "name": "python3"
  },
  "language_info": {
   "codemirror_mode": {
    "name": "ipython",
    "version": 3
   },
   "file_extension": ".py",
   "mimetype": "text/x-python",
   "name": "python",
   "nbconvert_exporter": "python",
   "pygments_lexer": "ipython3",
   "version": "3.9.5"
  }
 },
 "nbformat": 4,
 "nbformat_minor": 4
}
