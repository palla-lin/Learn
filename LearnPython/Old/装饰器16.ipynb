{
 "cells": [
  {
   "cell_type": "markdown",
   "metadata": {},
   "source": [
    "作用域：局部->嵌套->全局->内置\n",
    "高阶函数：函数可以作为参数输入或作为返回值\n"
   ]
  },
  {
   "cell_type": "code",
   "execution_count": 8,
   "metadata": {},
   "outputs": [
    {
     "name": "stdout",
     "output_type": "stream",
     "text": [
      "15\n",
      "<class 'function'>\n"
     ]
    }
   ],
   "source": [
    "# 闭包:\n",
    "def fun():\n",
    "    x=10\n",
    "    def inner(y):#inner是闭包（closure）\n",
    "        print(x+y)#对外部环境进行引用\n",
    "    return inner\n",
    "f=fun()#引用内部函数\n",
    "f(5)\n",
    "print(type(f))"
   ]
  },
  {
   "cell_type": "code",
   "execution_count": null,
   "metadata": {},
   "outputs": [],
   "source": []
  },
  {
   "cell_type": "code",
   "execution_count": null,
   "metadata": {},
   "outputs": [],
   "source": []
  }
 ],
 "metadata": {
  "kernelspec": {
   "display_name": "Python 3 (ipykernel)",
   "language": "python",
   "name": "python3"
  },
  "language_info": {
   "codemirror_mode": {
    "name": "ipython",
    "version": 3
   },
   "file_extension": ".py",
   "mimetype": "text/x-python",
   "name": "python",
   "nbconvert_exporter": "python",
   "pygments_lexer": "ipython3",
   "version": "3.9.5"
  }
 },
 "nbformat": 4,
 "nbformat_minor": 4
}
