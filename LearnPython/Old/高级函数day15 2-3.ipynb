{
 "cells": [
  {
   "cell_type": "markdown",
   "metadata": {},
   "source": [
    "参考网址：www.cnblogs.com/yuanchenqi/articles/5828233.html\n",
    "递归:1.递归退出条件\n",
    "    2.递归式\n",
    "特点：效率不高，内存溢出\n",
    "\n",
    "内置函数：abs();all();any();dict();dir();enumerate();eval();len();iter();list();map();max();min();print();range();round();set();str();sum();tuple();type();zip()\n",
    "重要函数\n",
    "lambda\n",
    "reduce\n",
    "filter\n",
    "map"
   ]
  },
  {
   "cell_type": "code",
   "execution_count": 1,
   "metadata": {},
   "outputs": [
    {
     "name": "stdout",
     "output_type": "stream",
     "text": [
      "3\n"
     ]
    }
   ],
   "source": [
    "print(eval('1+2'))"
   ]
  },
  {
   "cell_type": "code",
   "execution_count": 3,
   "metadata": {},
   "outputs": [
    {
     "name": "stdout",
     "output_type": "stream",
     "text": [
      "[1, 4, 9, 16, 25]\n"
     ]
    }
   ],
   "source": [
    "#map\n",
    "li=[1,2,3,4,5]\n",
    "a=map(lambda x,y:x*y,li,li)\n",
    "print(list(a))"
   ]
  },
  {
   "cell_type": "code",
   "execution_count": 11,
   "metadata": {},
   "outputs": [
    {
     "name": "stdout",
     "output_type": "stream",
     "text": [
      "[1, 4, 9, 16, 25]\n",
      "[9]\n",
      "[9]\n"
     ]
    }
   ],
   "source": [
    "#推导式\n",
    "b=[x*x for x in li]\n",
    "print(b)\n",
    "c=[x*x for x in li if x >2 and x<4]\n",
    "print(c)\n",
    "new=[]\n",
    "for x in li:\n",
    "    if x>2 and x<4:\n",
    "        new.append(x*x)\n",
    "print(new)"
   ]
  },
  {
   "cell_type": "code",
   "execution_count": 14,
   "metadata": {},
   "outputs": [
    {
     "name": "stdout",
     "output_type": "stream",
     "text": [
      "15\n"
     ]
    }
   ],
   "source": [
    "#reduce\n",
    "import functools as f\n",
    "d=f.reduce(lambda x,y:x+y,li)\n",
    "print(d)"
   ]
  },
  {
   "cell_type": "code",
   "execution_count": 21,
   "metadata": {},
   "outputs": [
    {
     "name": "stdout",
     "output_type": "stream",
     "text": [
      "[4, 5]\n"
     ]
    }
   ],
   "source": [
    "q=filter(lambda x:x>3,li)\n",
    "print(list(q))"
   ]
  },
  {
   "cell_type": "code",
   "execution_count": 26,
   "metadata": {},
   "outputs": [
    {
     "name": "stdout",
     "output_type": "stream",
     "text": [
      "<enumerate object at 0x000002819F327BD0>\n"
     ]
    }
   ],
   "source": [
    "w=enumerate(li)\n",
    "print(w)"
   ]
  },
  {
   "cell_type": "code",
   "execution_count": 7,
   "metadata": {},
   "outputs": [
    {
     "name": "stdout",
     "output_type": "stream",
     "text": [
      "[1, 2, 3, [4, 5]] [1, 2, 3, [4, 5]] [1, 2, 3, [4, 5]]\n",
      "[1, 2, 3, [4, 5, 'a']] [1, 2, 3, [4, 5, 'a']] [1, 2, 3, [4, 5, 'a']]\n",
      "[1, 2, 3, [4, 5]]\n",
      "1677205384904 1677205384904 1677206509832 1677206460424 1677204783880\n",
      "1677206508360 1677206508360 1677206508360 1677206508360 1677206507912\n"
     ]
    }
   ],
   "source": [
    "import copy\n",
    "v1=[1,2,3,[4,5]]\n",
    "v2=v1\n",
    "v3=v1[:]\n",
    "v4=v1.copy()\n",
    "v5=copy.deepcopy(v1)\n",
    "print(v2,v3,v4)\n",
    "v1[-1].append('a')\n",
    "print(v2,v3,v4)\n",
    "print(v5)\n",
    "print(id(v1),id(v2),id(v3),id(v4),id(v5))\n",
    "print(id(v1[-1]),id(v2[-1]),id(v3[-1]),id(v4[-1]),id(v5[-1]))"
   ]
  },
  {
   "cell_type": "code",
   "execution_count": null,
   "metadata": {},
   "outputs": [],
   "source": []
  }
 ],
 "metadata": {
  "kernelspec": {
   "display_name": "Python 3 (ipykernel)",
   "language": "python",
   "name": "python3"
  },
  "language_info": {
   "codemirror_mode": {
    "name": "ipython",
    "version": 3
   },
   "file_extension": ".py",
   "mimetype": "text/x-python",
   "name": "python",
   "nbconvert_exporter": "python",
   "pygments_lexer": "ipython3",
   "version": "3.9.5"
  }
 },
 "nbformat": 4,
 "nbformat_minor": 4
}
