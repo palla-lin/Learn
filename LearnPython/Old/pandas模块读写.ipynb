{
 "cells": [
  {
   "cell_type": "markdown",
   "metadata": {},
   "source": [
    "#### pandas模块读写\n",
    "series类型\n",
    "DataFrame类型\n",
    "pandas读写文件\n",
    "    按条件读写\n",
    "    部分数据读写1"
   ]
  },
  {
   "cell_type": "code",
   "execution_count": null,
   "metadata": {},
   "outputs": [],
   "source": [
    "df['a']，df.a#列索引\n",
    "df.loc[]#行列同行操作\n",
    "df[0:1]#行操作\n",
    "df.head(2)#前面2行\n",
    "df.tail(3)#后面3行\n"
   ]
  },
  {
   "cell_type": "code",
   "execution_count": 6,
   "metadata": {},
   "outputs": [
    {
     "name": "stdout",
     "output_type": "stream",
     "text": [
      "[['1,2,3,4,5']\n",
      " ['6,7,8,9,10']]\n"
     ]
    }
   ],
   "source": [
    "import pandas as pd\n",
    "path='test.csv'\n",
    "data=pd.read_csv(path,sep=' ').values\n",
    "print(data)"
   ]
  },
  {
   "cell_type": "code",
   "execution_count": null,
   "metadata": {},
   "outputs": [],
   "source": [
    "data=pd.read_csv(path,header=None)#没有头部，有效数据\n",
    "data=pd.read_csv(path,index_col='c')#指定索引\n",
    "data=pd.read_csv(path,index_col=['b','c'])#层次化索引\n",
    "data=pd.read_csv(path,skiprows=[[1])#跳过某些行\n",
    "data=pd.read_csv(path,nrows=5)#指定数据读取                             \n",
    "#pd.innull 判断是否空                                \n",
    "\n",
    "#文件的NA为NAN\n",
    "                             "
   ]
  },
  {
   "cell_type": "code",
   "execution_count": 52,
   "metadata": {},
   "outputs": [
    {
     "name": "stdout",
     "output_type": "stream",
     "text": [
      "    1 2 3\n",
      "0  \\r\\n  \n",
      "1   a b c\n",
      "---------\n",
      "a 1 2 3\n",
      "a \"\n",
      "a \"  \n",
      "a a b c\n"
     ]
    }
   ],
   "source": [
    "#写入\n",
    "# data=[['1','2','3','\\n'],['a','b','c']]#按行写入，写入左引号，换行符，右引号,可以写入不可读出\n",
    "# data=[['1','2','3'],'\\n',['a','b','c']]#错误格式\n",
    "# data=[['1','2','3'],['\\n'],['a','b','c']]#写入换行，多出双引号\n",
    "data={'word':[['q','i'],['w'.'e']],'tag':[['1','2','3'],['4','5','6']]}\n",
    "import pandas as pd\n",
    "df=pd.DataFrame(data)\n",
    "df.to_csv('test.txt',index=False,header=None,sep=' ')\n",
    "ss=pd.read_csv('test.txt')\n",
    "print(ss)\n",
    "print('---------')\n",
    "with open('test.txt','r',encoding='utf-8')as f:\n",
    "    for line in f:\n",
    "        print('a',line[:-1])\n"
   ]
  },
  {
   "cell_type": "code",
   "execution_count": null,
   "metadata": {},
   "outputs": [],
   "source": []
  },
  {
   "cell_type": "code",
   "execution_count": null,
   "metadata": {},
   "outputs": [],
   "source": []
  }
 ],
 "metadata": {
  "kernelspec": {
   "display_name": "Python 3",
   "language": "python",
   "name": "python3"
  },
  "language_info": {
   "codemirror_mode": {
    "name": "ipython",
    "version": 3
   },
   "file_extension": ".py",
   "mimetype": "text/x-python",
   "name": "python",
   "nbconvert_exporter": "python",
   "pygments_lexer": "ipython3",
   "version": "3.7.6"
  }
 },
 "nbformat": 4,
 "nbformat_minor": 2
}
