{
 "cells": [
  {
   "cell_type": "markdown",
   "id": "14620ed8-a3d6-4a33-9713-cdca5202e9bf",
   "metadata": {
    "tags": []
   },
   "source": [
    "# basic II"
   ]
  },
  {
   "cell_type": "markdown",
   "id": "f32f5ed9-2b19-44ad-bb63-a20b86e847c9",
   "metadata": {},
   "source": [
    "## Function"
   ]
  },
  {
   "cell_type": "markdown",
   "id": "4b6db4e0-490f-4e56-89f6-39e6b98b8cf2",
   "metadata": {},
   "source": [
    "## File"
   ]
  },
  {
   "cell_type": "markdown",
   "id": "5eaf8c76-2b20-455d-9735-04ed8e489fcb",
   "metadata": {},
   "source": [
    "## Module"
   ]
  },
  {
   "cell_type": "markdown",
   "id": "facee2b8-1b4e-4c3f-90ae-afc5b69ecd7d",
   "metadata": {},
   "source": [
    "## Error & Exception"
   ]
  },
  {
   "cell_type": "code",
   "execution_count": null,
   "id": "0278b259-2eec-4e0b-83c0-0af1159279b8",
   "metadata": {},
   "outputs": [],
   "source": []
  }
 ],
 "metadata": {
  "kernelspec": {
   "display_name": "Python 3 (ipykernel)",
   "language": "python",
   "name": "python3"
  },
  "language_info": {
   "codemirror_mode": {
    "name": "ipython",
    "version": 3
   },
   "file_extension": ".py",
   "mimetype": "text/x-python",
   "name": "python",
   "nbconvert_exporter": "python",
   "pygments_lexer": "ipython3",
   "version": "3.9.5"
  }
 },
 "nbformat": 4,
 "nbformat_minor": 5
}
