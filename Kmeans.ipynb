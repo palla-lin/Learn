{
 "cells": [
  {
   "cell_type": "code",
   "execution_count": 3,
   "metadata": {},
   "outputs": [],
   "source": [
    "import matplotlib.pyplot as plt\n",
    "import numpy as np\n",
    "import random\n",
    "data=[[1,1],[1,2],[1,3],[2,1],[2,2],[2,3],[2,4],[3,2],[3,3],[4,1],[4,3],\n",
    "      [6,5],[6,6],[6,8],[7,8],[8,6],[8,9],[9,6],[9,7],[9,9]]\n",
    "# data=np.array(data)\n",
    "# print(data)\n",
    "# X = np.random.randint(1,5,16)\n",
    "# Y = np.random.randint(1,5,16)\n",
    "\n",
    "# plt.scatter(X,Y,marker='^')\n",
    "# X= np.random.randint(5,10,16)\n",
    "# Y = np.random.randint(5,10,16)\n",
    "\n",
    "# plt.scatter(X,Y,marker='o')\n",
    "# plt.show()\n",
    "\n",
    "\n",
    "\n"
   ]
  },
  {
   "cell_type": "code",
   "execution_count": 29,
   "metadata": {},
   "outputs": [
    {
     "name": "stdout",
     "output_type": "stream",
     "text": [
      "<class 'list'> [[1, 1], [1, 2], [1, 3], [2, 1], [2, 2], [2, 3], [2, 4], [3, 2], [3, 3], [4, 1], [4, 3]]\n",
      "<class 'list'> [[6, 5], [6, 6], [6, 8], [7, 8], [8, 6], [8, 9], [9, 6], [9, 7], [9, 9]]\n"
     ]
    },
    {
     "data": {
      "text/plain": [
       "<matplotlib.collections.PathCollection at 0x20936315688>"
      ]
     },
     "execution_count": 29,
     "metadata": {},
     "output_type": "execute_result"
    },
    {
     "data": {
      "image/png": "[encoded data removed]",
      "text/plain": [
       "<Figure size 432x288 with 1 Axes>"
      ]
     },
     "metadata": {
      "needs_background": "light"
     },
     "output_type": "display_data"
    }
   ],
   "source": [
    "tri=[]\n",
    "cir=[]\n",
    "origin=random.sample(data,2)\n",
    "def dis(x_test,x_train):\n",
    "    distance = np.sqrt(sum((x_test - x_train) ** 2))\n",
    "    return distance\n",
    "for item in data:\n",
    "    a=np.array(item)\n",
    "    b=np.array(origin[0])\n",
    "    c=np.array(origin[1])\n",
    "    tridis =dis(a,b)\n",
    "                \n",
    "    cirdis =dis(a,c)\n",
    "    if tridis<cirdis:\n",
    "        tri.append(item)\n",
    "    else:\n",
    "        cir.append(item)\n",
    "# print(type(tri),tri)\n",
    "# print(type(cir),cir)\n",
    "tr=np.array(tri)\n",
    "ci=np.array(cir)\n",
    "\n",
    "plt.scatter(tr[:,0],tr[:,1],marker='^') \n",
    "plt.scatter(ci[:,0],ci[:,1],marker='o')    "
   ]
  },
  {
   "cell_type": "code",
   "execution_count": null,
   "metadata": {},
   "outputs": [],
   "source": []
  }
 ],
 "metadata": {
  "kernelspec": {
   "display_name": "Python 3",
   "language": "python",
   "name": "python3"
  },
  "language_info": {
   "codemirror_mode": {
    "name": "ipython",
    "version": 3
   },
   "file_extension": ".py",
   "mimetype": "text/x-python",
   "name": "python",
   "nbconvert_exporter": "python",
   "pygments_lexer": "ipython3",
   "version": "3.7.6"
  }
 },
 "nbformat": 4,
 "nbformat_minor": 4
}
